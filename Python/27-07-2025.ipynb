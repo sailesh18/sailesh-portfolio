{
 "cells": [
  {
   "cell_type": "markdown",
   "id": "a2c31278",
   "metadata": {},
   "source": [
    "Write a function to check if a number is prime.\n",
    "\n",
    "Write a function to check if a string is a palindrome.\n",
    "\n",
    "Generate the first N Fibonacci numbers.\n",
    "\n",
    "Count the number of vowels in a string.\n",
    "\n",
    "Find the factorial of a number using recursion.\n",
    "\n",
    "Check if a number is an Armstrong number.\n",
    "\n",
    "Write a program to reverse the words in a sentence.\n",
    "\n",
    "Find the second largest number in a list.\n",
    "\n",
    "Merge two lists and remove duplicates.\n",
    "\n",
    "Create a function that returns the maximum of three numbers."
   ]
  },
  {
   "cell_type": "code",
   "execution_count": 30,
   "id": "67b1dbfc",
   "metadata": {},
   "outputs": [],
   "source": [
    "del len"
   ]
  },
  {
   "cell_type": "code",
   "execution_count": null,
   "id": "7e0daf52",
   "metadata": {},
   "outputs": [],
   "source": [
    "def func([])"
   ]
  },
  {
   "cell_type": "code",
   "execution_count": 38,
   "id": "639a0d0e",
   "metadata": {},
   "outputs": [
    {
     "name": "stdout",
     "output_type": "stream",
     "text": [
      "[6, 8, 2, 4, 3, 45, 25, 12, 9, 45, 25, 6, 8, 2, 4, 3, 45, 25, 12, 9, 45, 25]\n",
      "[2, 3, 4, 6, 8, 9, 12, 45, 25]\n"
     ]
    }
   ],
   "source": [
    "li1=[6,8,2,4,3,45,25,12,9,45,25]\n",
    "li2=[6,8,2,4,3,45,25,12,9,45,25]\n",
    "li3=li1+(li2)\n",
    "print(li3)\n",
    "li3=list(set(li3))\n",
    "print(li3)"
   ]
  },
  {
   "cell_type": "code",
   "execution_count": 31,
   "id": "0bdb5af8",
   "metadata": {},
   "outputs": [
    {
     "name": "stdout",
     "output_type": "stream",
     "text": [
      "[2, 3, 4, 6, 8, 9, 12, 25, 25, 45, 45]\n",
      "[2, 3, 4, 6, 8, 9, 12, 25, 45]\n",
      "25\n"
     ]
    }
   ],
   "source": [
    "li=[6,8,2,4,3,45,25,12,9,45,25]\n",
    "li.sort()\n",
    "print(li)\n",
    "li = list(set(li))\n",
    "li.sort()\n",
    "print(li)\n",
    "len=len(li)\n",
    "print(li[len-2])"
   ]
  },
  {
   "cell_type": "code",
   "execution_count": 20,
   "id": "dd8142bd",
   "metadata": {},
   "outputs": [
    {
     "data": {
      "text/plain": [
       "6"
      ]
     },
     "execution_count": 20,
     "metadata": {},
     "output_type": "execute_result"
    }
   ],
   "source": [
    "def fact(num):\n",
    "    return 1 if num == 0 else num * fact(num - 1)\n",
    "\n",
    "fact(3)\n"
   ]
  },
  {
   "cell_type": "code",
   "execution_count": 6,
   "id": "5355bd4d",
   "metadata": {},
   "outputs": [
    {
     "data": {
      "text/plain": [
       "False"
      ]
     },
     "execution_count": 6,
     "metadata": {},
     "output_type": "execute_result"
    }
   ],
   "source": [
    "def check(num) :\n",
    "    for i in range(2, int(num**0.5) + 1):\n",
    "        if num % i == 0:\n",
    "            return False\n",
    "        else :\n",
    "            return True \n",
    "nu=int(input(\"Enter a number: \"))            \n",
    "check(nu)"
   ]
  },
  {
   "cell_type": "code",
   "execution_count": 12,
   "id": "29f9bc69",
   "metadata": {},
   "outputs": [
    {
     "name": "stdout",
     "output_type": "stream",
     "text": [
      "mom\n",
      "true\n"
     ]
    }
   ],
   "source": [
    "str=\"Mom\"\n",
    "str=str.lower()\n",
    "print(str)\n",
    "rev=str[::-1]\n",
    "if str==rev:\n",
    "    print(\"true\")\n",
    "else:\n",
    "    print(\"false\")"
   ]
  },
  {
   "cell_type": "code",
   "execution_count": null,
   "id": "486046c9",
   "metadata": {},
   "outputs": [],
   "source": [
    "num=int(input(\"Enter a number: \"))\n",
    "a=0"
   ]
  },
  {
   "cell_type": "code",
   "execution_count": 14,
   "id": "fd7a4aa0",
   "metadata": {},
   "outputs": [
    {
     "name": "stdout",
     "output_type": "stream",
     "text": [
      "Number of vowels in the string: 7\n"
     ]
    }
   ],
   "source": [
    "a=0\n",
    "vowels=['a', 'e', 'i', 'o', 'u']\n",
    "str = \"Sailesh Ravichandran\"\n",
    "for i in str:\n",
    "    if i.lower() in vowels:\n",
    "        a += 1\n",
    "print(f\"Number of vowels in the string: {a}\")"
   ]
  },
  {
   "cell_type": "code",
   "execution_count": null,
   "id": "8af70ec1",
   "metadata": {},
   "outputs": [],
   "source": []
  }
 ],
 "metadata": {
  "kernelspec": {
   "display_name": "Python 3",
   "language": "python",
   "name": "python3"
  },
  "language_info": {
   "codemirror_mode": {
    "name": "ipython",
    "version": 3
   },
   "file_extension": ".py",
   "mimetype": "text/x-python",
   "name": "python",
   "nbconvert_exporter": "python",
   "pygments_lexer": "ipython3",
   "version": "3.12.8"
  }
 },
 "nbformat": 4,
 "nbformat_minor": 5
}

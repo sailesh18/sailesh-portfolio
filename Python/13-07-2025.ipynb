{
 "cells": [
  {
   "cell_type": "code",
   "execution_count": null,
   "id": "f3d37e7e",
   "metadata": {},
   "outputs": [],
   "source": [
    "a=\"hey this is Sailesh\"\n",
    "print(len(a))\n",
    "for i in range(0,len(a)):\n",
    "    print(i)"
   ]
  },
  {
   "cell_type": "code",
   "execution_count": null,
   "id": "57ad4990",
   "metadata": {},
   "outputs": [],
   "source": [
    "for i in a:\n",
    "    print(i,end=\",\")"
   ]
  },
  {
   "cell_type": "code",
   "execution_count": null,
   "id": "1b0b0ed8",
   "metadata": {},
   "outputs": [],
   "source": [
    "print(\"hey\" in a,\"Sailesh\" in a)"
   ]
  },
  {
   "cell_type": "code",
   "execution_count": null,
   "id": "d56c577a",
   "metadata": {},
   "outputs": [],
   "source": [
    "if not \"hey\" in a:\n",
    "    print(\"'hey' not found in the string\")\n",
    "else:\n",
    "    print(\"Found 'hey' in the string\")"
   ]
  },
  {
   "cell_type": "code",
   "execution_count": null,
   "id": "0f6ee49d",
   "metadata": {},
   "outputs": [],
   "source": [
    "print(a[-5:-2])"
   ]
  },
  {
   "cell_type": "code",
   "execution_count": null,
   "id": "bfebfcfd",
   "metadata": {},
   "outputs": [],
   "source": [
    "print(a.strip())"
   ]
  },
  {
   "cell_type": "code",
   "execution_count": null,
   "id": "51bd3f83",
   "metadata": {},
   "outputs": [],
   "source": [
    "print(a.replace(\"Sailesh\",\"Sailesh R\"))"
   ]
  },
  {
   "cell_type": "code",
   "execution_count": null,
   "id": "eeaf1064",
   "metadata": {},
   "outputs": [],
   "source": [
    "print(a.split(\" \"))"
   ]
  },
  {
   "cell_type": "code",
   "execution_count": null,
   "id": "0c5734f4",
   "metadata": {},
   "outputs": [],
   "source": [
    "price = 59\n",
    "txt = f\"The price is {price:.2f} dollars\"\n",
    "print(txt)"
   ]
  },
  {
   "cell_type": "code",
   "execution_count": null,
   "id": "703713d3",
   "metadata": {},
   "outputs": [],
   "source": [
    "print(a.center(50,\"*\").upper())"
   ]
  },
  {
   "cell_type": "code",
   "execution_count": null,
   "id": "e91fbb18",
   "metadata": {},
   "outputs": [],
   "source": [
    "print(a.count(\"s\"))"
   ]
  },
  {
   "cell_type": "code",
   "execution_count": null,
   "id": "4f8ae432",
   "metadata": {},
   "outputs": [],
   "source": [
    "print(a.endswith(\"Sailesh\"))"
   ]
  },
  {
   "cell_type": "code",
   "execution_count": null,
   "id": "de4d25a1",
   "metadata": {},
   "outputs": [],
   "source": [
    "print(a.find(\"Sailesh\"))"
   ]
  },
  {
   "cell_type": "code",
   "execution_count": null,
   "id": "840efd67",
   "metadata": {},
   "outputs": [],
   "source": [
    "print(a.isalnum())"
   ]
  },
  {
   "cell_type": "code",
   "execution_count": null,
   "id": "d5786304",
   "metadata": {},
   "outputs": [],
   "source": [
    "print(a.index(\"Sailesh\"))"
   ]
  },
  {
   "cell_type": "code",
   "execution_count": null,
   "id": "6bbeeef2",
   "metadata": {},
   "outputs": [],
   "source": [
    "p=90\n",
    "y=80\n",
    "if p>y:\n",
    "    print(\"p is greater than y\")\n",
    "elif p<y:\n",
    "    print(\"p is less than y\")\n",
    "else:\n",
    "    print(\"p is equal to y\")"
   ]
  },
  {
   "cell_type": "code",
   "execution_count": null,
   "id": "b65f1be9",
   "metadata": {},
   "outputs": [],
   "source": [
    "print(bool(0))"
   ]
  },
  {
   "cell_type": "markdown",
   "id": "3b652d37",
   "metadata": {},
   "source": [
    "# Python Collections (Arrays)\n",
    "There are four collection data types in the Python programming language:\n",
    "\n",
    "List is a collection which is ordered and changeable. Allows duplicate members.\n",
    "\n",
    "Tuple is a collection which is ordered and unchangeable. Allows duplicate members.\n",
    "\n",
    "Set is a collection which is unordered, unchangeable*, and unindexed. No duplicate members.\n",
    "\n",
    "Dictionary is a collection which is ordered** and changeable. No duplicate members."
   ]
  },
  {
   "cell_type": "markdown",
   "id": "d98c8e8f",
   "metadata": {},
   "source": [
    "# Lists\n",
    "List items are ordered, changeable, and allow duplicate values.\n",
    "\n",
    "List items are indexed, the first item has index [0], the second item has index [1] etc."
   ]
  },
  {
   "cell_type": "code",
   "execution_count": null,
   "id": "411280a9",
   "metadata": {},
   "outputs": [],
   "source": [
    "num=[1, 2, 3, 4, 5]\n",
    "b=[\"banana\", \"apple\", \"orange\"]\n",
    "\n",
    "print(num+b)"
   ]
  },
  {
   "cell_type": "code",
   "execution_count": null,
   "id": "f83f4b81",
   "metadata": {},
   "outputs": [],
   "source": [
    "print(list(\"13-07-2025.ipynb\".split(\"-\")))"
   ]
  },
  {
   "cell_type": "code",
   "execution_count": null,
   "id": "05ffafad",
   "metadata": {},
   "outputs": [],
   "source": [
    "b.append(\"grape\")"
   ]
  },
  {
   "cell_type": "code",
   "execution_count": null,
   "id": "7ec016ae",
   "metadata": {},
   "outputs": [],
   "source": [
    "b.index(\"grape\")"
   ]
  },
  {
   "cell_type": "code",
   "execution_count": null,
   "id": "a9a40fcf",
   "metadata": {},
   "outputs": [],
   "source": [
    "print(b.count(\"grape\"))"
   ]
  },
  {
   "cell_type": "code",
   "execution_count": null,
   "id": "354d8d02",
   "metadata": {},
   "outputs": [],
   "source": [
    "print(type(b))"
   ]
  },
  {
   "cell_type": "code",
   "execution_count": null,
   "id": "9802fcb2",
   "metadata": {},
   "outputs": [],
   "source": [
    "check=\"grape\"\n",
    "if check in b:\n",
    "    print(f\"{check} is in the list\")"
   ]
  },
  {
   "cell_type": "code",
   "execution_count": null,
   "id": "45d37fea",
   "metadata": {},
   "outputs": [],
   "source": [
    "num.pop(0) #index"
   ]
  },
  {
   "cell_type": "code",
   "execution_count": null,
   "id": "52267fae",
   "metadata": {},
   "outputs": [],
   "source": [
    "num.insert(0, 1)  # Insert 1 at index 0"
   ]
  },
  {
   "cell_type": "code",
   "execution_count": null,
   "id": "4a259cca",
   "metadata": {},
   "outputs": [],
   "source": [
    "print(num)"
   ]
  },
  {
   "cell_type": "code",
   "execution_count": null,
   "id": "88773bf3",
   "metadata": {},
   "outputs": [],
   "source": [
    "print(b.extend(num))"
   ]
  },
  {
   "cell_type": "markdown",
   "id": "0e98d3cd",
   "metadata": {},
   "source": [
    "# Tuple\n",
    "Tuples are used to store multiple items in a single variable.\n",
    "\n",
    "Tuple is one of 4 built-in data types in Python used to store collections of data, the other 3 are List, Set, and Dictionary, all with different qualities and usage.\n",
    "\n",
    "Tuple items are ordered, unchangeable, and allow duplicate values.\n",
    "\n",
    "Tuples are written with round brackets.\n",
    "\n",
    "` Two build in methods `\n",
    "\n",
    "count()\tReturns the number of times a specified value occurs in a tuple\n",
    "\n",
    "index()\tSearches the tuple for a specified value and returns the position of where it was found"
   ]
  },
  {
   "cell_type": "code",
   "execution_count": 25,
   "id": "409fbd12",
   "metadata": {},
   "outputs": [
    {
     "name": "stdout",
     "output_type": "stream",
     "text": [
      "('apple', 'banana', 'cherry', 'grape')\n"
     ]
    }
   ],
   "source": [
    "tup=(\"apple\", \"banana\", \"cherry\",\"grape\")\n",
    "print(tup)"
   ]
  },
  {
   "cell_type": "code",
   "execution_count": null,
   "id": "4664c9d9",
   "metadata": {},
   "outputs": [],
   "source": [
    "#wont work as tuples are immutable\n",
    "tup[0]=\"orange\""
   ]
  },
  {
   "cell_type": "code",
   "execution_count": null,
   "id": "560ab6d5",
   "metadata": {},
   "outputs": [],
   "source": [
    "'''unpacking : But, in Python, we are also allowed to extract \n",
    "the values back into variables. This is called \"unpacking\"'''\n",
    "fruits = (\"apple\", \"banana\", \"cherry\")\n",
    "\n",
    "(green, yellow, red) = fruits\n",
    "\n",
    "print(green)\n",
    "print(yellow)\n",
    "print(red)"
   ]
  },
  {
   "cell_type": "code",
   "execution_count": 26,
   "id": "4c13cc3e",
   "metadata": {},
   "outputs": [
    {
     "name": "stdout",
     "output_type": "stream",
     "text": [
      "apple\n",
      "banana\n",
      "['cherry', 'strawberry', 'raspberry']\n"
     ]
    }
   ],
   "source": [
    "fruits = (\"apple\", \"banana\", \"cherry\", \"strawberry\", \"raspberry\")\n",
    "\n",
    "(green, yellow, *red) = fruits\n",
    "\n",
    "print(green)\n",
    "print(yellow)\n",
    "print(red)"
   ]
  },
  {
   "cell_type": "code",
   "execution_count": 28,
   "id": "175513cc",
   "metadata": {},
   "outputs": [
    {
     "name": "stdout",
     "output_type": "stream",
     "text": [
      "apple banana cherry strawberry raspberry \n",
      "apple banana cherry strawberry raspberry\n"
     ]
    }
   ],
   "source": [
    "h=\"\"\n",
    "for i in range(0,len(fruits)):\n",
    "    h= h + fruits[i] + \" \"\n",
    "print(h)\n",
    "print(h.strip())"
   ]
  },
  {
   "cell_type": "code",
   "execution_count": 36,
   "id": "20c9d95e",
   "metadata": {},
   "outputs": [
    {
     "name": "stdout",
     "output_type": "stream",
     "text": [
      "('apple', 'banana', 'cherry', 'strawberry', 'raspberry', 'apple', 'banana', 'cherry', 'strawberry', 'raspberry')\n"
     ]
    }
   ],
   "source": [
    "print(fruits*2)"
   ]
  },
  {
   "cell_type": "markdown",
   "id": "2138e64c",
   "metadata": {},
   "source": [
    "# Set\n",
    "Sets are used to store multiple items in a single variable.\n",
    "\n",
    "Set is one of 4 built-in data types in Python used to store collections of data, the other 3 are List, Tuple, and Dictionary, all with different qualities and usage.\n",
    "\n",
    "A set is a collection which is unordered, unchangeable*, and unindexed."
   ]
  },
  {
   "cell_type": "code",
   "execution_count": null,
   "id": "19167ea3",
   "metadata": {},
   "outputs": [],
   "source": [
    "thisset = {\"apple\", \"banana\", \"cherry\"}\n",
    "print(thisset)"
   ]
  }
 ],
 "metadata": {
  "kernelspec": {
   "display_name": "Python 3",
   "language": "python",
   "name": "python3"
  },
  "language_info": {
   "codemirror_mode": {
    "name": "ipython",
    "version": 3
   },
   "file_extension": ".py",
   "mimetype": "text/x-python",
   "name": "python",
   "nbconvert_exporter": "python",
   "pygments_lexer": "ipython3",
   "version": "3.12.8"
  }
 },
 "nbformat": 4,
 "nbformat_minor": 5
}

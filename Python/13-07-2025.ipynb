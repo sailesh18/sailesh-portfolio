{
 "cells": [
  {
   "cell_type": "code",
   "execution_count": null,
   "id": "f3d37e7e",
   "metadata": {},
   "outputs": [],
   "source": [
    "a=\"hey this is Sailesh\"\n",
    "print(len(a))\n",
    "for i in range(0,len(a)):\n",
    "    print(i)"
   ]
  },
  {
   "cell_type": "code",
   "execution_count": null,
   "id": "57ad4990",
   "metadata": {},
   "outputs": [],
   "source": [
    "for i in a:\n",
    "    print(i,end=\",\")"
   ]
  },
  {
   "cell_type": "code",
   "execution_count": null,
   "id": "1b0b0ed8",
   "metadata": {},
   "outputs": [],
   "source": [
    "print(\"hey\" in a,\"Sailesh\" in a)"
   ]
  },
  {
   "cell_type": "code",
   "execution_count": null,
   "id": "d56c577a",
   "metadata": {},
   "outputs": [],
   "source": [
    "if not \"hey\" in a:\n",
    "    print(\"'hey' not found in the string\")\n",
    "else:\n",
    "    print(\"Found 'hey' in the string\")"
   ]
  },
  {
   "cell_type": "code",
   "execution_count": null,
   "id": "0f6ee49d",
   "metadata": {},
   "outputs": [],
   "source": [
    "print(a[-5:-2])"
   ]
  },
  {
   "cell_type": "code",
   "execution_count": null,
   "id": "bfebfcfd",
   "metadata": {},
   "outputs": [],
   "source": [
    "print(a.strip())"
   ]
  },
  {
   "cell_type": "code",
   "execution_count": null,
   "id": "51bd3f83",
   "metadata": {},
   "outputs": [],
   "source": [
    "print(a.replace(\"Sailesh\",\"Sailesh R\"))"
   ]
  },
  {
   "cell_type": "code",
   "execution_count": null,
   "id": "eeaf1064",
   "metadata": {},
   "outputs": [],
   "source": [
    "print(a.split(\" \"))"
   ]
  },
  {
   "cell_type": "code",
   "execution_count": null,
   "id": "0c5734f4",
   "metadata": {},
   "outputs": [],
   "source": [
    "price = 59\n",
    "txt = f\"The price is {price:.2f} dollars\"\n",
    "print(txt)"
   ]
  },
  {
   "cell_type": "code",
   "execution_count": null,
   "id": "703713d3",
   "metadata": {},
   "outputs": [],
   "source": [
    "print(a.center(50,\"*\").upper())"
   ]
  },
  {
   "cell_type": "code",
   "execution_count": null,
   "id": "e91fbb18",
   "metadata": {},
   "outputs": [],
   "source": [
    "print(a.count(\"s\"))"
   ]
  },
  {
   "cell_type": "code",
   "execution_count": null,
   "id": "4f8ae432",
   "metadata": {},
   "outputs": [],
   "source": [
    "print(a.endswith(\"Sailesh\"))"
   ]
  },
  {
   "cell_type": "code",
   "execution_count": null,
   "id": "de4d25a1",
   "metadata": {},
   "outputs": [],
   "source": [
    "print(a.find(\"Sailesh\"))"
   ]
  },
  {
   "cell_type": "code",
   "execution_count": null,
   "id": "840efd67",
   "metadata": {},
   "outputs": [],
   "source": [
    "print(a.isalnum())"
   ]
  },
  {
   "cell_type": "code",
   "execution_count": null,
   "id": "d5786304",
   "metadata": {},
   "outputs": [],
   "source": [
    "print(a.index(\"Sailesh\"))"
   ]
  },
  {
   "cell_type": "code",
   "execution_count": null,
   "id": "6bbeeef2",
   "metadata": {},
   "outputs": [],
   "source": [
    "p=90\n",
    "y=80\n",
    "if p>y:\n",
    "    print(\"p is greater than y\")\n",
    "elif p<y:\n",
    "    print(\"p is less than y\")\n",
    "else:\n",
    "    print(\"p is equal to y\")"
   ]
  },
  {
   "cell_type": "code",
   "execution_count": null,
   "id": "b65f1be9",
   "metadata": {},
   "outputs": [],
   "source": [
    "print(bool(0))"
   ]
  },
  {
   "cell_type": "markdown",
   "id": "3b652d37",
   "metadata": {},
   "source": [
    "# Python Collections (Arrays)\n",
    "There are four collection data types in the Python programming language:\n",
    "\n",
    "List is a collection which is ordered and changeable. Allows duplicate members.\n",
    "\n",
    "Tuple is a collection which is ordered and unchangeable. Allows duplicate members.\n",
    "\n",
    "Set is a collection which is unordered, unchangeable*, and unindexed. No duplicate members.\n",
    "\n",
    "Dictionary is a collection which is ordered** and changeable. No duplicate members."
   ]
  },
  {
   "cell_type": "markdown",
   "id": "d98c8e8f",
   "metadata": {},
   "source": [
    "# Lists\n",
    "List items are ordered, changeable, and allow duplicate values.\n",
    "\n",
    "List items are indexed, the first item has index [0], the second item has index [1] etc."
   ]
  },
  {
   "cell_type": "code",
   "execution_count": null,
   "id": "411280a9",
   "metadata": {},
   "outputs": [],
   "source": [
    "num=[1, 2, 3, 4, 5]\n",
    "b=[\"banana\", \"apple\", \"orange\"]\n",
    "\n",
    "print(num+b)"
   ]
  },
  {
   "cell_type": "code",
   "execution_count": null,
   "id": "f83f4b81",
   "metadata": {},
   "outputs": [],
   "source": [
    "print(list(\"13-07-2025.ipynb\".split(\"-\")))"
   ]
  },
  {
   "cell_type": "code",
   "execution_count": null,
   "id": "05ffafad",
   "metadata": {},
   "outputs": [],
   "source": [
    "b.append(\"grape\")"
   ]
  },
  {
   "cell_type": "code",
   "execution_count": null,
   "id": "7ec016ae",
   "metadata": {},
   "outputs": [],
   "source": [
    "b.index(\"grape\")"
   ]
  },
  {
   "cell_type": "code",
   "execution_count": null,
   "id": "a9a40fcf",
   "metadata": {},
   "outputs": [],
   "source": [
    "print(b.count(\"grape\"))"
   ]
  },
  {
   "cell_type": "code",
   "execution_count": null,
   "id": "354d8d02",
   "metadata": {},
   "outputs": [],
   "source": [
    "print(type(b))"
   ]
  },
  {
   "cell_type": "code",
   "execution_count": null,
   "id": "9802fcb2",
   "metadata": {},
   "outputs": [],
   "source": [
    "check=\"grape\"\n",
    "if check in b:\n",
    "    print(f\"{check} is in the list\")"
   ]
  },
  {
   "cell_type": "code",
   "execution_count": null,
   "id": "45d37fea",
   "metadata": {},
   "outputs": [],
   "source": [
    "num.pop(0) #index"
   ]
  },
  {
   "cell_type": "code",
   "execution_count": null,
   "id": "52267fae",
   "metadata": {},
   "outputs": [],
   "source": [
    "num.insert(0, 1)  # Insert 1 at index 0"
   ]
  },
  {
   "cell_type": "code",
   "execution_count": null,
   "id": "4a259cca",
   "metadata": {},
   "outputs": [],
   "source": [
    "print(num)"
   ]
  },
  {
   "cell_type": "code",
   "execution_count": null,
   "id": "88773bf3",
   "metadata": {},
   "outputs": [],
   "source": [
    "print(b.extend(num))"
   ]
  },
  {
   "cell_type": "markdown",
   "id": "0e98d3cd",
   "metadata": {},
   "source": [
    "# Tuple\n",
    "Tuples are used to store multiple items in a single variable.\n",
    "\n",
    "Tuple is one of 4 built-in data types in Python used to store collections of data, the other 3 are List, Set, and Dictionary, all with different qualities and usage.\n",
    "\n",
    "Tuple items are ordered, unchangeable, and allow duplicate values.\n",
    "\n",
    "Tuples are written with round brackets.\n",
    "\n",
    "` Two build in methods `\n",
    "\n",
    "count()\tReturns the number of times a specified value occurs in a tuple\n",
    "\n",
    "index()\tSearches the tuple for a specified value and returns the position of where it was found"
   ]
  },
  {
   "cell_type": "code",
   "execution_count": null,
   "id": "409fbd12",
   "metadata": {},
   "outputs": [],
   "source": [
    "tup=(\"apple\", \"banana\", \"cherry\",\"grape\")\n",
    "print(tup)"
   ]
  },
  {
   "cell_type": "code",
   "execution_count": null,
   "id": "4664c9d9",
   "metadata": {},
   "outputs": [],
   "source": [
    "#wont work as tuples are immutable\n",
    "tup[0]=\"orange\""
   ]
  },
  {
   "cell_type": "code",
   "execution_count": null,
   "id": "560ab6d5",
   "metadata": {},
   "outputs": [],
   "source": [
    "'''unpacking : But, in Python, we are also allowed to extract \n",
    "the values back into variables. This is called \"unpacking\"'''\n",
    "fruits = (\"apple\", \"banana\", \"cherry\")\n",
    "\n",
    "(green, yellow, red) = fruits\n",
    "\n",
    "print(green)\n",
    "print(yellow)\n",
    "print(red)"
   ]
  },
  {
   "cell_type": "code",
   "execution_count": null,
   "id": "4c13cc3e",
   "metadata": {},
   "outputs": [],
   "source": [
    "fruits = (\"apple\", \"banana\", \"cherry\", \"strawberry\", \"raspberry\")\n",
    "\n",
    "(green, yellow, *red) = fruits\n",
    "\n",
    "print(green)\n",
    "print(yellow)\n",
    "print(red)"
   ]
  },
  {
   "cell_type": "code",
   "execution_count": null,
   "id": "175513cc",
   "metadata": {},
   "outputs": [],
   "source": [
    "h=\"\"\n",
    "for i in range(0,len(fruits)):\n",
    "    h= h + fruits[i] + \" \"\n",
    "print(h)\n",
    "print(h.strip())"
   ]
  },
  {
   "cell_type": "code",
   "execution_count": null,
   "id": "20c9d95e",
   "metadata": {},
   "outputs": [],
   "source": [
    "print(fruits*2)"
   ]
  },
  {
   "cell_type": "markdown",
   "id": "2138e64c",
   "metadata": {},
   "source": [
    "# Set\n",
    "Sets are used to store multiple items in a single variable.\n",
    "\n",
    "Set is one of 4 built-in data types in Python used to store collections of data, the other 3 are List, Tuple, and Dictionary, all with different qualities and usage.\n",
    "\n",
    "A set is a collection which is unordered, unchangeable*, and unindexed."
   ]
  },
  {
   "cell_type": "code",
   "execution_count": null,
   "id": "19167ea3",
   "metadata": {},
   "outputs": [],
   "source": [
    "thisset = {\"apple\", \"banana\", \"cherry\"}\n",
    "print(thisset)"
   ]
  },
  {
   "cell_type": "code",
   "execution_count": null,
   "id": "b23c6fef",
   "metadata": {},
   "outputs": [],
   "source": [
    "thisset.remove(\"banana\")\n",
    "\n",
    "print(thisset)"
   ]
  },
  {
   "cell_type": "code",
   "execution_count": null,
   "id": "6286f584",
   "metadata": {},
   "outputs": [],
   "source": [
    "set1 = {\"a\", \"b\", \"c\"}\n",
    "set2 = {1, 2, 3}\n",
    "\n",
    "set3 = set1.union(set2)\n",
    "print(set3)"
   ]
  },
  {
   "cell_type": "code",
   "execution_count": null,
   "id": "b7e7412d",
   "metadata": {},
   "outputs": [],
   "source": [
    "set1 = {\"a\", \"b\", \"c\"}\n",
    "set2 = {1, 2, 3}\n",
    "set3 = {\"John\", \"Elena\"}\n",
    "set4 = {\"apple\", \"bananas\", \"cherry\"}\n",
    "\n",
    "myset = set1.union(set2, set3, set4)\n",
    "print(myset)"
   ]
  },
  {
   "cell_type": "code",
   "execution_count": null,
   "id": "2b691e6b",
   "metadata": {},
   "outputs": [],
   "source": [
    "set1 = {\"apple\", \"banana\", \"cherry\"}\n",
    "set2 = {\"google\", \"microsoft\", \"apple\"}\n",
    "\n",
    "set3 = set1.intersection(set2)\n",
    "print(set3)"
   ]
  },
  {
   "cell_type": "code",
   "execution_count": null,
   "id": "093bc0b0",
   "metadata": {},
   "outputs": [],
   "source": [
    "set1 = {\"apple\", \"banana\", \"cherry\"}\n",
    "set2 = {\"google\", \"microsoft\", \"apple\"}\n",
    "\n",
    "set3 = set1.difference(set2)\n",
    "\n",
    "print(set3)"
   ]
  },
  {
   "cell_type": "markdown",
   "id": "09950977",
   "metadata": {},
   "source": [
    "# Dictionary\n",
    "Dictionaries are used to store data values in key:value pairs.\n",
    "\n",
    "A dictionary is a collection which is ordered*, changeable and do not allow duplicates.\n",
    "\n",
    "As of Python version 3.7, dictionaries are ordered. In Python 3.6 and earlier, dictionaries are unordered.\n",
    "\n",
    "Dictionaries are written with curly brackets, and have keys and values"
   ]
  },
  {
   "cell_type": "code",
   "execution_count": null,
   "id": "3ca56828",
   "metadata": {},
   "outputs": [],
   "source": [
    "thisdict = {\n",
    "  \"brand\": \"Ford\",\n",
    "  \"model\": \"Mustang\",\n",
    "  \"year\": 1964\n",
    "}\n",
    "print(thisdict[\"brand\"])"
   ]
  },
  {
   "cell_type": "code",
   "execution_count": null,
   "id": "ca9a4315",
   "metadata": {},
   "outputs": [],
   "source": [
    "print(len(thisdict))"
   ]
  },
  {
   "cell_type": "code",
   "execution_count": null,
   "id": "4e5a5e87",
   "metadata": {},
   "outputs": [],
   "source": [
    "thisdict = {\n",
    "  \"brand\": \"Ford\",\n",
    "  \"electric\": False,\n",
    "  \"year\": 1964,\n",
    "  \"colors\": [\"red\", \"white\", \"blue\"]\n",
    "}\n",
    "\n",
    "print(thisdict[\"colors\"][0])"
   ]
  },
  {
   "cell_type": "code",
   "execution_count": null,
   "id": "8134de0d",
   "metadata": {},
   "outputs": [],
   "source": [
    "print(thisdict.keys())\n",
    "print(thisdict.values())\n",
    "print(thisdict.items())"
   ]
  },
  {
   "cell_type": "code",
   "execution_count": null,
   "id": "91174289",
   "metadata": {},
   "outputs": [],
   "source": [
    "if \"model\" in thisdict:\n",
    "    print(\"Yes, 'model' is one of the keys in the thisdict dictionary\")"
   ]
  },
  {
   "cell_type": "code",
   "execution_count": null,
   "id": "9be1434c",
   "metadata": {},
   "outputs": [],
   "source": [
    "thisdict[\"year\"] = 2018\n",
    "print(thisdict)"
   ]
  },
  {
   "cell_type": "code",
   "execution_count": null,
   "id": "227e6303",
   "metadata": {},
   "outputs": [],
   "source": [
    "for x in thisdict:\n",
    "  print(x+\" : \" + str(thisdict[x]))"
   ]
  },
  {
   "cell_type": "code",
   "execution_count": null,
   "id": "a5ff9aef",
   "metadata": {},
   "outputs": [],
   "source": [
    "for x, y in thisdict.items():\n",
    "  print(x, y)"
   ]
  },
  {
   "cell_type": "markdown",
   "id": "decd4e78",
   "metadata": {},
   "source": [
    "You cannot copy a dictionary simply by typing dict2 = dict1, because: dict2 will only be a reference to dict1, and changes made in dict1 will automatically also be made in dict2."
   ]
  },
  {
   "cell_type": "code",
   "execution_count": null,
   "id": "5ad186ea",
   "metadata": {},
   "outputs": [],
   "source": [
    "mydict=thisdict\n",
    "print(mydict)"
   ]
  },
  {
   "cell_type": "code",
   "execution_count": null,
   "id": "178d7d41",
   "metadata": {},
   "outputs": [],
   "source": [
    "myfamily = {\n",
    "  \"child1\" : {\n",
    "    \"name\" : \"Emil\",\n",
    "    \"year\" : 2004\n",
    "  },\n",
    "  \"child2\" : {\n",
    "    \"name\" : \"Tobias\",\n",
    "    \"year\" : 2007\n",
    "  },\n",
    "  \"child3\" : {\n",
    "    \"name\" : \"Linus\",\n",
    "    \"year\" : 2011\n",
    "  }\n",
    "}\n",
    "print(myfamily.keys())"
   ]
  },
  {
   "cell_type": "code",
   "execution_count": null,
   "id": "3a30e562",
   "metadata": {},
   "outputs": [],
   "source": [
    "print(myfamily[\"child1\"][\"name\"])"
   ]
  },
  {
   "cell_type": "code",
   "execution_count": null,
   "id": "5bf09039",
   "metadata": {},
   "outputs": [],
   "source": [
    "for x, obj in myfamily.items():\n",
    "  print(x)\n",
    "  \n",
    "  for y in obj:\n",
    "    print(y + ':', obj[y])"
   ]
  },
  {
   "cell_type": "markdown",
   "id": "0345863f",
   "metadata": {},
   "source": [
    "# The Python Match Statement\n",
    "Instead of writing many if..else statements, you can use the match statement.\n",
    "\n",
    "The match statement selects one of many code blocks to be executed."
   ]
  },
  {
   "cell_type": "code",
   "execution_count": 46,
   "id": "a9978ee8",
   "metadata": {},
   "outputs": [
    {
     "name": "stdout",
     "output_type": "stream",
     "text": [
      "Thursday\n"
     ]
    }
   ],
   "source": [
    "day = 4\n",
    "match day:\n",
    "  case 1:\n",
    "    print(\"Monday\")\n",
    "  case 2:\n",
    "    print(\"Tuesday\")\n",
    "  case 3:\n",
    "    print(\"Wednesday\")\n",
    "  case 4:\n",
    "    print(\"Thursday\")\n",
    "  case 5:\n",
    "    print(\"Friday\")\n",
    "  case 6:\n",
    "    print(\"Saturday\")\n",
    "  case 7:\n",
    "    print(\"Sunday\")"
   ]
  }
 ],
 "metadata": {
  "kernelspec": {
   "display_name": "Python 3",
   "language": "python",
   "name": "python3"
  },
  "language_info": {
   "codemirror_mode": {
    "name": "ipython",
    "version": 3
   },
   "file_extension": ".py",
   "mimetype": "text/x-python",
   "name": "python",
   "nbconvert_exporter": "python",
   "pygments_lexer": "ipython3",
   "version": "3.12.8"
  }
 },
 "nbformat": 4,
 "nbformat_minor": 5
}

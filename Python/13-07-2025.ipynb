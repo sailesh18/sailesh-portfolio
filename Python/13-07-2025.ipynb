{
 "cells": [
  {
   "cell_type": "code",
   "execution_count": 2,
   "id": "f3d37e7e",
   "metadata": {},
   "outputs": [
    {
     "name": "stdout",
     "output_type": "stream",
     "text": [
      "19\n",
      "0\n",
      "1\n",
      "2\n",
      "3\n",
      "4\n",
      "5\n",
      "6\n",
      "7\n",
      "8\n",
      "9\n",
      "10\n",
      "11\n",
      "12\n",
      "13\n",
      "14\n",
      "15\n",
      "16\n",
      "17\n",
      "18\n"
     ]
    }
   ],
   "source": [
    "a=\"hey this is Sailesh\"\n",
    "print(len(a))\n",
    "for i in range(0,len(a)):\n",
    "    print(i)"
   ]
  },
  {
   "cell_type": "code",
   "execution_count": 18,
   "id": "57ad4990",
   "metadata": {},
   "outputs": [
    {
     "name": "stdout",
     "output_type": "stream",
     "text": [
      "h,e,y, ,t,h,i,s, ,i,s, ,S,a,i,l,e,s,h,"
     ]
    }
   ],
   "source": [
    "for i in a:\n",
    "    print(i,end=\",\")"
   ]
  },
  {
   "cell_type": "code",
   "execution_count": 25,
   "id": "1b0b0ed8",
   "metadata": {},
   "outputs": [
    {
     "name": "stdout",
     "output_type": "stream",
     "text": [
      "True True\n"
     ]
    }
   ],
   "source": [
    "print(\"hey\" in a,\"Sailesh\" in a)"
   ]
  },
  {
   "cell_type": "code",
   "execution_count": null,
   "id": "d56c577a",
   "metadata": {},
   "outputs": [
    {
     "name": "stdout",
     "output_type": "stream",
     "text": [
      "Found 'hey' in the string\n"
     ]
    }
   ],
   "source": [
    "if not \"hey\" in a:\n",
    "    print(\"'hey' not found in the string\")\n",
    "else:\n",
    "    print(\"Found 'hey' in the string\")"
   ]
  },
  {
   "cell_type": "code",
   "execution_count": 35,
   "id": "0f6ee49d",
   "metadata": {},
   "outputs": [
    {
     "name": "stdout",
     "output_type": "stream",
     "text": [
      "ile\n"
     ]
    }
   ],
   "source": [
    "print(a[-5:-2])"
   ]
  },
  {
   "cell_type": "code",
   "execution_count": 44,
   "id": "bfebfcfd",
   "metadata": {},
   "outputs": [
    {
     "name": "stdout",
     "output_type": "stream",
     "text": [
      "hey this is Sailesh\n"
     ]
    }
   ],
   "source": [
    "print(a.strip())"
   ]
  },
  {
   "cell_type": "code",
   "execution_count": 47,
   "id": "51bd3f83",
   "metadata": {},
   "outputs": [
    {
     "name": "stdout",
     "output_type": "stream",
     "text": [
      "hey this is Sailesh R\n"
     ]
    }
   ],
   "source": [
    "print(a.replace(\"Sailesh\",\"Sailesh R\"))"
   ]
  },
  {
   "cell_type": "code",
   "execution_count": 51,
   "id": "eeaf1064",
   "metadata": {},
   "outputs": [
    {
     "name": "stdout",
     "output_type": "stream",
     "text": [
      "['hey', 'this', 'is', 'Sailesh']\n"
     ]
    }
   ],
   "source": [
    "print(a.split(\" \"))"
   ]
  },
  {
   "cell_type": "code",
   "execution_count": 52,
   "id": "0c5734f4",
   "metadata": {},
   "outputs": [
    {
     "name": "stdout",
     "output_type": "stream",
     "text": [
      "The price is 59.00 dollars\n"
     ]
    }
   ],
   "source": [
    "price = 59\n",
    "txt = f\"The price is {price:.2f} dollars\"\n",
    "print(txt)"
   ]
  },
  {
   "cell_type": "code",
   "execution_count": 10,
   "id": "703713d3",
   "metadata": {},
   "outputs": [
    {
     "name": "stdout",
     "output_type": "stream",
     "text": [
      "***************HEY THIS IS SAILESH****************\n"
     ]
    }
   ],
   "source": [
    "print(a.center(50,\"*\").upper())"
   ]
  },
  {
   "cell_type": "code",
   "execution_count": 12,
   "id": "e91fbb18",
   "metadata": {},
   "outputs": [
    {
     "name": "stdout",
     "output_type": "stream",
     "text": [
      "3\n"
     ]
    }
   ],
   "source": [
    "print(a.count(\"s\"))"
   ]
  },
  {
   "cell_type": "code",
   "execution_count": 18,
   "id": "4f8ae432",
   "metadata": {},
   "outputs": [
    {
     "name": "stdout",
     "output_type": "stream",
     "text": [
      "True\n"
     ]
    }
   ],
   "source": [
    "print(a.endswith(\"Sailesh\"))"
   ]
  },
  {
   "cell_type": "code",
   "execution_count": 19,
   "id": "de4d25a1",
   "metadata": {},
   "outputs": [
    {
     "name": "stdout",
     "output_type": "stream",
     "text": [
      "12\n"
     ]
    }
   ],
   "source": [
    "print(a.find(\"Sailesh\"))"
   ]
  },
  {
   "cell_type": "code",
   "execution_count": 24,
   "id": "840efd67",
   "metadata": {},
   "outputs": [
    {
     "name": "stdout",
     "output_type": "stream",
     "text": [
      "False\n"
     ]
    }
   ],
   "source": [
    "print(a.isalnum())"
   ]
  },
  {
   "cell_type": "code",
   "execution_count": 25,
   "id": "d5786304",
   "metadata": {},
   "outputs": [
    {
     "name": "stdout",
     "output_type": "stream",
     "text": [
      "12\n"
     ]
    }
   ],
   "source": [
    "print(a.index(\"Sailesh\"))"
   ]
  },
  {
   "cell_type": "code",
   "execution_count": 26,
   "id": "6bbeeef2",
   "metadata": {},
   "outputs": [
    {
     "name": "stdout",
     "output_type": "stream",
     "text": [
      "p is greater than y\n"
     ]
    }
   ],
   "source": [
    "p=90\n",
    "y=80\n",
    "if p>y:\n",
    "    print(\"p is greater than y\")\n",
    "elif p<y:\n",
    "    print(\"p is less than y\")\n",
    "else:\n",
    "    print(\"p is equal to y\")"
   ]
  },
  {
   "cell_type": "code",
   "execution_count": 30,
   "id": "b65f1be9",
   "metadata": {},
   "outputs": [
    {
     "name": "stdout",
     "output_type": "stream",
     "text": [
      "False\n"
     ]
    }
   ],
   "source": [
    "print(bool(0))"
   ]
  },
  {
   "cell_type": "markdown",
   "id": "3b652d37",
   "metadata": {},
   "source": [
    "# Python Collections (Arrays)\n",
    "There are four collection data types in the Python programming language:\n",
    "\n",
    "List is a collection which is ordered and changeable. Allows duplicate members.\n",
    "\n",
    "Tuple is a collection which is ordered and unchangeable. Allows duplicate members.\n",
    "\n",
    "Set is a collection which is unordered, unchangeable*, and unindexed. No duplicate members.\n",
    "\n",
    "Dictionary is a collection which is ordered** and changeable. No duplicate members."
   ]
  },
  {
   "cell_type": "markdown",
   "id": "d98c8e8f",
   "metadata": {},
   "source": [
    "# Lists\n",
    "List items are ordered, changeable, and allow duplicate values.\n",
    "\n",
    "List items are indexed, the first item has index [0], the second item has index [1] etc."
   ]
  },
  {
   "cell_type": "code",
   "execution_count": 41,
   "id": "411280a9",
   "metadata": {},
   "outputs": [
    {
     "name": "stdout",
     "output_type": "stream",
     "text": [
      "[1, 2, 3, 4, 5, 'banana', 'apple', 'orange']\n"
     ]
    }
   ],
   "source": [
    "num=[1, 2, 3, 4, 5]\n",
    "b=[\"banana\", \"apple\", \"orange\"]\n",
    "\n",
    "print(num+b)"
   ]
  },
  {
   "cell_type": "code",
   "execution_count": 42,
   "id": "f83f4b81",
   "metadata": {},
   "outputs": [
    {
     "name": "stdout",
     "output_type": "stream",
     "text": [
      "['13', '07', '2025.ipynb']\n"
     ]
    }
   ],
   "source": [
    "print(list(\"13-07-2025.ipynb\".split(\"-\")))"
   ]
  },
  {
   "cell_type": "code",
   "execution_count": 43,
   "id": "05ffafad",
   "metadata": {},
   "outputs": [],
   "source": [
    "b.append(\"grape\")"
   ]
  },
  {
   "cell_type": "code",
   "execution_count": 49,
   "id": "7ec016ae",
   "metadata": {},
   "outputs": [
    {
     "data": {
      "text/plain": [
       "3"
      ]
     },
     "execution_count": 49,
     "metadata": {},
     "output_type": "execute_result"
    }
   ],
   "source": [
    "b.index(\"grape\")"
   ]
  },
  {
   "cell_type": "code",
   "execution_count": 55,
   "id": "a9a40fcf",
   "metadata": {},
   "outputs": [
    {
     "name": "stdout",
     "output_type": "stream",
     "text": [
      "1\n"
     ]
    }
   ],
   "source": [
    "print(b.count(\"grape\"))"
   ]
  },
  {
   "cell_type": "code",
   "execution_count": 60,
   "id": "354d8d02",
   "metadata": {},
   "outputs": [
    {
     "name": "stdout",
     "output_type": "stream",
     "text": [
      "<class 'list'>\n"
     ]
    }
   ],
   "source": [
    "print(type(b))"
   ]
  },
  {
   "cell_type": "code",
   "execution_count": 65,
   "id": "9802fcb2",
   "metadata": {},
   "outputs": [
    {
     "name": "stdout",
     "output_type": "stream",
     "text": [
      "grape is in the list\n"
     ]
    }
   ],
   "source": [
    "check=\"grape\"\n",
    "if check in b:\n",
    "    print(f\"{check} is in the list\")"
   ]
  },
  {
   "cell_type": "code",
   "execution_count": null,
   "id": "45d37fea",
   "metadata": {},
   "outputs": [
    {
     "data": {
      "text/plain": [
       "1"
      ]
     },
     "execution_count": 85,
     "metadata": {},
     "output_type": "execute_result"
    }
   ],
   "source": [
    "num.pop(0) #index"
   ]
  },
  {
   "cell_type": "code",
   "execution_count": null,
   "id": "52267fae",
   "metadata": {},
   "outputs": [],
   "source": [
    "num.insert(0, 1)  # Insert 1 at index 0"
   ]
  },
  {
   "cell_type": "code",
   "execution_count": 88,
   "id": "4a259cca",
   "metadata": {},
   "outputs": [
    {
     "name": "stdout",
     "output_type": "stream",
     "text": [
      "[1, 2, 3, 4, 5]\n"
     ]
    }
   ],
   "source": [
    "print(num)"
   ]
  },
  {
   "cell_type": "code",
   "execution_count": 89,
   "id": "88773bf3",
   "metadata": {},
   "outputs": [
    {
     "name": "stdout",
     "output_type": "stream",
     "text": [
      "None\n"
     ]
    }
   ],
   "source": [
    "print(b.extend(num))"
   ]
  },
  {
   "cell_type": "code",
   "execution_count": null,
   "id": "a6403b63",
   "metadata": {},
   "outputs": [
    {
     "name": "stdout",
     "output_type": "stream",
     "text": [
      "[1, 2, 3, 4, 5]\n"
     ]
    }
   ],
   "source": []
  }
 ],
 "metadata": {
  "kernelspec": {
   "display_name": "Python 3",
   "language": "python",
   "name": "python3"
  },
  "language_info": {
   "codemirror_mode": {
    "name": "ipython",
    "version": 3
   },
   "file_extension": ".py",
   "mimetype": "text/x-python",
   "name": "python",
   "nbconvert_exporter": "python",
   "pygments_lexer": "ipython3",
   "version": "3.12.8"
  }
 },
 "nbformat": 4,
 "nbformat_minor": 5
}

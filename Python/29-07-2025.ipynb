{
 "cells": [
  {
   "cell_type": "markdown",
   "id": "bab0f482",
   "metadata": {},
   "source": [
    "✅ Numbers & Math\n",
    "Check if a number is even or odd.\n",
    "\n",
    "Find the sum of digits of a number. (e.g., 123 → 1+2+3=6)\n",
    "\n",
    "Count how many digits are in a number.\n",
    "\n",
    "Reverse a number. (e.g., 123 → 321)\n",
    "\n",
    "Swap two numbers (with and without a temporary variable).\n",
    "\n",
    "Generate a multiplication table for a given number.\n",
    "\n",
    "Check if a number is a perfect square.\n",
    "\n",
    "Find the GCD (greatest common divisor) of two numbers.\n",
    "\n",
    "Find the LCM (least common multiple) of two numbers.\n",
    "\n",
    "Convert Celsius to Fahrenheit (and vice versa)."
   ]
  },
  {
   "cell_type": "code",
   "execution_count": 48,
   "id": "7428a018",
   "metadata": {},
   "outputs": [
    {
     "name": "stdout",
     "output_type": "stream",
     "text": [
      "5 * 0 = 0 \n",
      "5 * 1 = 5 \n",
      "5 * 2 = 10 \n",
      "5 * 3 = 15 \n",
      "5 * 4 = 20 \n",
      "5 * 5 = 25 \n",
      "5 * 6 = 30 \n",
      "5 * 7 = 35 \n",
      "5 * 8 = 40 \n",
      "5 * 9 = 45 \n",
      "5 * 10 = 50 \n"
     ]
    }
   ],
   "source": [
    "num=int(input(\"enter a number: \"))\n",
    "for i in range(0,11):\n",
    "    print(f\"{num} * {i} = {num*i} \")\n",
    "\n",
    "\n",
    "\n"
   ]
  },
  {
   "cell_type": "code",
   "execution_count": 45,
   "id": "6c0de0ca",
   "metadata": {},
   "outputs": [
    {
     "name": "stdout",
     "output_type": "stream",
     "text": [
      "Not Prime\n"
     ]
    }
   ],
   "source": [
    "inp = int(input(\"Enter a number: \"))\n",
    "flag = 0\n",
    "\n",
    "for i in range(2, int((inp * 0.5) + 1)):\n",
    "    if inp % i == 0:\n",
    "        flag = 1        \n",
    "\n",
    "if flag == 1:\n",
    "    print(\"Not Prime\")\n",
    "else:\n",
    "    print(\"Prime\")\n"
   ]
  },
  {
   "cell_type": "code",
   "execution_count": 20,
   "id": "8c73f337",
   "metadata": {},
   "outputs": [
    {
     "name": "stdout",
     "output_type": "stream",
     "text": [
      "odd\n"
     ]
    }
   ],
   "source": [
    "inp=int(input(\"Enter a number: \"))\n",
    "if inp%2==0:\n",
    "    print(\"Even\")\n",
    "else:\n",
    "    print(\"odd\")"
   ]
  },
  {
   "cell_type": "code",
   "execution_count": 19,
   "id": "beec31dd",
   "metadata": {},
   "outputs": [
    {
     "name": "stdout",
     "output_type": "stream",
     "text": [
      "5\n"
     ]
    }
   ],
   "source": [
    "num=56699\n",
    "num=str(num)\n",
    "print(len(num))"
   ]
  },
  {
   "cell_type": "code",
   "execution_count": 17,
   "id": "9b46605c",
   "metadata": {},
   "outputs": [
    {
     "name": "stdout",
     "output_type": "stream",
     "text": [
      "12\n"
     ]
    }
   ],
   "source": [
    "num=4044\n",
    "num=str(num)\n",
    "sum=0\n",
    "for i in num:\n",
    "    sum= sum +int(i)\n",
    "print(sum)"
   ]
  },
  {
   "cell_type": "markdown",
   "id": "ba696826",
   "metadata": {},
   "source": [
    "✅ Strings\n",
    "Count lowercase and uppercase letters in a string.\n",
    "\n",
    "Replace all spaces in a string with hyphens.\n",
    "\n",
    "Check if a string is a pangram (contains all letters A-Z).\n",
    "\n",
    "Remove all vowels from a string.\n",
    "\n",
    "Capitalize the first letter of each word in a string.\n",
    "\n",
    "Remove all duplicates from a string.\n",
    "\n",
    "Sort characters in a string alphabetically.\n",
    "\n",
    "Print characters in a string with their ASCII values.\n",
    "\n",
    "Count how many times each word appears in a sentence.\n",
    "\n",
    "Toggle the case of each character (lower → upper, upper → lower)."
   ]
  },
  {
   "cell_type": "code",
   "execution_count": null,
   "id": "8f602756",
   "metadata": {},
   "outputs": [],
   "source": []
  },
  {
   "cell_type": "markdown",
   "id": "caade8ec",
   "metadata": {},
   "source": [
    "✅ Lists\n",
    "Create a list of 10 random integers between 1–100.\n",
    "\n",
    "Remove all even numbers from a list.\n",
    "\n",
    "Separate odd and even numbers into two lists.\n",
    "\n",
    "Find the sum and average of elements in a list.\n",
    "\n",
    "Find the difference between the max and min elements.\n",
    "\n",
    "Rotate a list to the right by 2 positions.\n",
    "\n",
    "Check if a list is sorted.\n",
    "\n",
    "Reverse a list without using .reverse() or slicing.\n",
    "\n",
    "Count occurrences of each element in a list.\n",
    "\n",
    "Flatten a nested list (e.g., [[1,2],[3,4]] → [1,2,3,4])\n",
    "\n"
   ]
  },
  {
   "cell_type": "markdown",
   "id": "fded3ff2",
   "metadata": {},
   "source": []
  }
 ],
 "metadata": {
  "kernelspec": {
   "display_name": "Python 3",
   "language": "python",
   "name": "python3"
  },
  "language_info": {
   "codemirror_mode": {
    "name": "ipython",
    "version": 3
   },
   "file_extension": ".py",
   "mimetype": "text/x-python",
   "name": "python",
   "nbconvert_exporter": "python",
   "pygments_lexer": "ipython3",
   "version": "3.12.8"
  }
 },
 "nbformat": 4,
 "nbformat_minor": 5
}

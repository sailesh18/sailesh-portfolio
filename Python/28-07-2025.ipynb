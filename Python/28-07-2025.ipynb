{
 "cells": [
  {
   "cell_type": "markdown",
   "id": "13e58f5f",
   "metadata": {},
   "source": [
    "Print your name, age, and favorite color using variables.\n",
    "\n",
    "Take user input for name and greet them.\n",
    "\n",
    "Write a program to check if a number is even or odd.\n",
    "\n",
    "Print numbers from 1 to 10 using a for loop.\n",
    "\n",
    "Calculate the sum of all numbers from 1 to n (input from user).\n",
    "\n",
    "Write a function that returns the square of a number.\n",
    "\n",
    "Create a list of 5 numbers and print the largest number.\n",
    "\n",
    "Reverse a string entered by the user.\n",
    "\n",
    "Count how many times a letter appears in a string.\n",
    "\n",
    "Write a program to print the multiplication table of a number."
   ]
  },
  {
   "cell_type": "code",
   "execution_count": 15,
   "id": "da2a35ce",
   "metadata": {},
   "outputs": [
    {
     "name": "stdout",
     "output_type": "stream",
     "text": [
      "10 * 1 = 10\n",
      "10 * 2 = 20\n",
      "10 * 3 = 30\n",
      "10 * 4 = 40\n",
      "10 * 5 = 50\n",
      "10 * 6 = 60\n",
      "10 * 7 = 70\n",
      "10 * 8 = 80\n",
      "10 * 9 = 90\n",
      "10 * 10 = 100\n"
     ]
    }
   ],
   "source": [
    "num = 10\n",
    "for i in range(1, 11):\n",
    "    print(f\"{num} * {i} = {num * i}\")\n",
    "\n"
   ]
  },
  {
   "cell_type": "code",
   "execution_count": null,
   "id": "672be43d",
   "metadata": {},
   "outputs": [],
   "source": [
    "str=\"Sailesh Ravichandran\"\n",
    "letter=input(\"Enter a letter to count: \")\n",
    "count=0\n",
    "for i in str:\n",
    "    if i.lower() == letter.lower():\n",
    "        count += 1\n",
    "print(f\"The letter '{letter}' appears {count} times in the string.\")"
   ]
  },
  {
   "cell_type": "code",
   "execution_count": null,
   "id": "a26ef197",
   "metadata": {},
   "outputs": [
    {
     "name": "stdout",
     "output_type": "stream",
     "text": [
      "{'S': 1, 'a': 4, 'i': 2, 'l': 1, 'e': 1, 's': 1, 'h': 2, 'R': 1, 'v': 1, 'c': 1, 'n': 2, 'd': 1, 'r': 1}\n"
     ]
    }
   ],
   "source": [
    "# Count the frequency of all the letters in the string\n",
    "str = \"Sailesh Ravichandran\"\n",
    "frequency = {}\n",
    "for i in str:\n",
    "    if i.isalpha():\n",
    "        frequency[i] = frequency.get(i, 0) + 1\n",
    "print(frequency)"
   ]
  },
  {
   "cell_type": "code",
   "execution_count": null,
   "id": "bcfe8ee0",
   "metadata": {},
   "outputs": [
    {
     "name": "stdout",
     "output_type": "stream",
     "text": [
      "nardnahcivaR hseliaS\n",
      "ailesh\n"
     ]
    }
   ],
   "source": [
    "str=\"Sailesh Ravichandran\"\n",
    "print(str[::-1])\n",
    "print(str[0:7])"
   ]
  },
  {
   "cell_type": "code",
   "execution_count": 2,
   "id": "1a4be1db",
   "metadata": {},
   "outputs": [
    {
     "name": "stdout",
     "output_type": "stream",
     "text": [
      "Largest number in the list is: 89\n"
     ]
    }
   ],
   "source": [
    "numbers = [14, 27, 5, 89, 36]\n",
    "large=numbers[0]\n",
    "for i in range(1,len(numbers)):\n",
    "    if large < numbers[i]:\n",
    "        large = numbers[i]\n",
    "print(f\"Largest number in the list is: {large}\")"
   ]
  },
  {
   "cell_type": "code",
   "execution_count": 24,
   "id": "5812a86b",
   "metadata": {},
   "outputs": [
    {
     "name": "stdout",
     "output_type": "stream",
     "text": [
      "Sorted list is: [2, 3, 4, 6, 8, 25, 45]\n",
      "last element is :45\n"
     ]
    }
   ],
   "source": [
    "li=[6,8,2,4,3,45,25]\n",
    "li.sort()\n",
    "print(\"Sorted list is: \" + str(li))\n",
    "print(\"last element is :\" +str(li[-1]))"
   ]
  },
  {
   "cell_type": "code",
   "execution_count": 8,
   "id": "8b9e259c",
   "metadata": {},
   "outputs": [
    {
     "name": "stdout",
     "output_type": "stream",
     "text": [
      "36\n"
     ]
    }
   ],
   "source": [
    "def sq(num):\n",
    "    return num*num\n",
    "\n",
    "print(sq(6))"
   ]
  },
  {
   "cell_type": "code",
   "execution_count": 2,
   "id": "b1f9057c",
   "metadata": {},
   "outputs": [
    {
     "name": "stdout",
     "output_type": "stream",
     "text": [
      "My name is Sailesh and i am a Male of age 18\n"
     ]
    }
   ],
   "source": [
    "name = \"Sailesh\"\n",
    "age=18\n",
    "gender= \"Male\"\n",
    "print(f\"My name is {name} and i am a {gender} of age {age}\")"
   ]
  },
  {
   "cell_type": "code",
   "execution_count": 3,
   "id": "5a73786d",
   "metadata": {},
   "outputs": [
    {
     "name": "stdout",
     "output_type": "stream",
     "text": [
      "My name is sail\n"
     ]
    }
   ],
   "source": [
    "name=input()\n",
    "print(f\"My name is {name}\")"
   ]
  },
  {
   "cell_type": "code",
   "execution_count": 4,
   "id": "d7bf8725",
   "metadata": {},
   "outputs": [
    {
     "name": "stdout",
     "output_type": "stream",
     "text": [
      "56 is even\n"
     ]
    }
   ],
   "source": [
    "num=int(input())\n",
    "if num%2==0:\n",
    "    print(f\"{num} is even\")\n",
    "else:\n",
    "    print(f\"{num} is odd\")"
   ]
  },
  {
   "cell_type": "code",
   "execution_count": 5,
   "id": "c471c2bc",
   "metadata": {},
   "outputs": [
    {
     "name": "stdout",
     "output_type": "stream",
     "text": [
      "1 2 3 4 5 6 7 8 9 "
     ]
    }
   ],
   "source": [
    "num=int(input())\n",
    "for i in range(1,num):\n",
    "    print(i, end=\" \")"
   ]
  },
  {
   "cell_type": "code",
   "execution_count": 6,
   "id": "a6b64cf9",
   "metadata": {},
   "outputs": [
    {
     "name": "stdout",
     "output_type": "stream",
     "text": [
      "Sum of first 10 natural numbers is 45\n"
     ]
    }
   ],
   "source": [
    "sum=0\n",
    "num=int(input())\n",
    "for i in range(1,num):\n",
    "    sum=sum+i\n",
    "print(f\"Sum of first {num} natural numbers is {sum}\")"
   ]
  },
  {
   "cell_type": "code",
   "execution_count": null,
   "id": "c01941a1",
   "metadata": {},
   "outputs": [],
   "source": []
  }
 ],
 "metadata": {
  "kernelspec": {
   "display_name": "Python 3",
   "language": "python",
   "name": "python3"
  },
  "language_info": {
   "codemirror_mode": {
    "name": "ipython",
    "version": 3
   },
   "file_extension": ".py",
   "mimetype": "text/x-python",
   "name": "python",
   "nbconvert_exporter": "python",
   "pygments_lexer": "ipython3",
   "version": "3.12.8"
  }
 },
 "nbformat": 4,
 "nbformat_minor": 5
}

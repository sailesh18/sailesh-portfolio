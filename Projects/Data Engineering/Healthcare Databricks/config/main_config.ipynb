{
 "cells": [
  {
   "cell_type": "code",
   "execution_count": 0,
   "metadata": {
    "application/vnd.databricks.v1+cell": {
     "cellMetadata": {
      "byteLimit": 2048000,
      "rowLimit": 10000
     },
     "inputWidgets": {},
     "nuid": "aa88da64-99df-4c08-ad93-fe53d11bbbbd",
     "showTitle": false,
     "tableResultSettingsMap": {},
     "title": ""
    }
   },
   "outputs": [],
   "source": [
    "from datetime import datetime\n",
    "from pyspark.sql.functions import current_timestamp\n",
    "\n",
    "catalog=\"healthcare\"\n",
    "landing_schema=\"landing\"\n",
    "bronze_schema=\"bronze\"\n",
    "silver_schema=\"silver\"\n",
    "gold_schema=\"gold\"\n",
    "logs_schema=\"logs\"\n",
    "landing_volume_name= \"landing_volume\"\n",
    "today_str = datetime.today().strftime('%Y%m%d')\n",
    "bronze_volume_name = f\"{bronze_schema}_{today_str}\""
   ]
  },
  {
   "cell_type": "code",
   "execution_count": 0,
   "metadata": {
    "application/vnd.databricks.v1+cell": {
     "cellMetadata": {
      "byteLimit": 2048000,
      "rowLimit": 10000
     },
     "inputWidgets": {},
     "nuid": "2b7ae707-f0d6-4d17-8f9f-ecb158c4ebe5",
     "showTitle": false,
     "tableResultSettingsMap": {},
     "title": ""
    }
   },
   "outputs": [],
   "source": [
    "tables_to_process = [\"patients\",\"doctors\",\"visits\",\"treatments\"]\n",
    "\n",
    "# === Configuration ===\n",
    "bronze_volume_path = f\"/Volumes/{catalog}/{bronze_schema}/{bronze_volume_name}\"\n",
    "landing_path=f\"/Volumes/{catalog}/{landing_schema}/{landing_volume_name}\"\n",
    "log_path=f\"{catalog}.{logs_schema}\"\n",
    "silver_path=f\"{catalog}.{silver_schema}\"\n",
    "gold_path=f\"{catalog}.{gold_schema}\""
   ]
  },
  {
   "cell_type": "code",
   "execution_count": 0,
   "metadata": {
    "application/vnd.databricks.v1+cell": {
     "cellMetadata": {
      "byteLimit": 2048000,
      "rowLimit": 10000
     },
     "inputWidgets": {},
     "nuid": "d3456ead-10bf-44b5-aacb-842c9a9eac2f",
     "showTitle": false,
     "tableResultSettingsMap": {},
     "title": ""
    }
   },
   "outputs": [],
   "source": [
    "pipeline_config = {\n",
    "    \"paths\": {\n",
    "        \"landing_path\": landing_path,\n",
    "        \"bronze_path\": bronze_volume_name,\n",
    "        \"silver_path\": silver_path,\n",
    "        \"gold_path\": gold_path,\n",
    "        \"bronze_volume_path\" : bronze_volume_path,\n",
    "        \"log_path\": log_path\n",
    "    },\n",
    "    \"catalog\": catalog,\n",
    "    \"schemas\": {\n",
    "        \"landing\": landing_schema,\n",
    "        \"bronze\": bronze_schema,\n",
    "        \"silver\": silver_schema,\n",
    "        \"gold\": gold_schema,\n",
    "        \"logs\": logs_schema\n",
    "    }\n",
    "    # \"log_table\": log_table,\n",
    "    # \"delta_properties\": delta_schema_evolution_properties,\n",
    "    # \"materialized_view_properties\": materialized_view_properties,\n",
    "    # \"file_formats\": file_formats,\n",
    "    # \"file_options\": file_options,\n",
    "\n",
    "}"
   ]
  }
 ],
 "metadata": {
  "application/vnd.databricks.v1+notebook": {
   "computePreferences": null,
   "dashboards": [],
   "environmentMetadata": {
    "base_environment": "",
    "environment_version": "2"
   },
   "inputWidgetPreferences": null,
   "language": "python",
   "notebookMetadata": {
    "pythonIndentUnit": 4
   },
   "notebookName": "main_config",
   "widgets": {}
  },
  "language_info": {
   "name": "python"
  }
 },
 "nbformat": 4,
 "nbformat_minor": 0
}

{
 "cells": [
  {
   "cell_type": "code",
   "execution_count": 0,
   "metadata": {
    "application/vnd.databricks.v1+cell": {
     "cellMetadata": {
      "byteLimit": 2048000,
      "rowLimit": 10000
     },
     "inputWidgets": {},
     "nuid": "418a2a8a-1d90-48b3-ae7a-271e936d5348",
     "showTitle": false,
     "tableResultSettingsMap": {},
     "title": ""
    }
   },
   "outputs": [],
   "source": [
    "%run ../.././start_up"
   ]
  },
  {
   "cell_type": "code",
   "execution_count": 0,
   "metadata": {
    "application/vnd.databricks.v1+cell": {
     "cellMetadata": {
      "byteLimit": 2048000,
      "rowLimit": 10000
     },
     "inputWidgets": {},
     "nuid": "e0cf6791-ea95-4b94-baf6-c5f8e5abdb6f",
     "showTitle": false,
     "tableResultSettingsMap": {},
     "title": ""
    }
   },
   "outputs": [],
   "source": [
    "logger = create_logger(notebook_name=\"landing_to_bronze\", log_level=\"DEBUG\")\n",
    "logger.info(\"🚀 Initializing landing_to_bronze notebook\")\n",
    "\n",
    "# Extract frequently used config values into variables\n",
    "catalog = pipeline_config[\"catalog\"]\n",
    "bronze_schema = pipeline_config[\"schemas\"][\"bronze\"]\n",
    "bronze_path = pipeline_config[\"paths\"][\"bronze_path\"]\n",
    "landing_schema= pipeline_config[\"schemas\"][\"landing\"]\n",
    "landing_path = pipeline_config[\"paths\"][\"landing_path\"]\n",
    "bronze_volume_path = pipeline_config[\"paths\"][\"bronze_volume_path\"]\n",
    "logs_schema = pipeline_config[\"schemas\"][\"logs\"]\n",
    "logger.info(\"Extracted frequently used config values into variables\")"
   ]
  },
  {
   "cell_type": "code",
   "execution_count": 0,
   "metadata": {
    "application/vnd.databricks.v1+cell": {
     "cellMetadata": {
      "byteLimit": 2048000,
      "rowLimit": 10000
     },
     "inputWidgets": {},
     "nuid": "90a917a1-9541-41bb-8dad-e68b0f659cce",
     "showTitle": false,
     "tableResultSettingsMap": {},
     "title": ""
    }
   },
   "outputs": [],
   "source": [
    "\n",
    " ''' Landing to Bronze Layer (CSV Volume Ingestion)\n",
    " Ingests CSV files from landing zone into a new bronze volume (bronze_YYYYMMDD).\n",
    " - Skips already ingested files unless `force_reprocess` is true\n",
    " - Adds ingestion timestamp\n",
    " - Writes back as CSV '''\n",
    "\n",
    "# COMMAND ----------\n",
    "from datetime import datetime\n",
    "from pyspark.sql.functions import current_timestamp\n",
    "import os\n",
    "\n",
    "\n",
    "# COMMAND ----------\n",
    "dbutils.widgets.text(\"table_name\", \"\")\n",
    "dbutils.widgets.dropdown(\"mode\", \"all\", [\"all\", \"single\"])\n",
    "dbutils.widgets.dropdown(\"force_reprocess\", \"true\", [\"true\", \"false\"])\n",
    "\n",
    "table_name = dbutils.widgets.get(\"table_name\")\n",
    "mode = dbutils.widgets.get(\"mode\")\n",
    "force_reprocess = dbutils.widgets.get(\"force_reprocess\").lower() == \"true\"\n",
    "\n",
    "if mode == \"single\" and table_name:\n",
    "    tables = [table_name]\n",
    "else:\n",
    "    tables = tables_to_process\n",
    "\n",
    "# COMMAND ----------\n",
    "today_str = datetime.today().strftime('%Y%m%d')\n",
    "bronze_volume_name = f\"bronze_{today_str}\"\n",
    "bronze_volume_path = f\"/Volumes/{catalog}/{bronze_schema}/{bronze_volume_name}\"\n",
    "\n",
    "spark.sql(f\"CREATE VOLUME IF NOT EXISTS {catalog}.{bronze_schema}.{bronze_volume_name}\")\n",
    "logger.info(f\"✅ Volume ready: {bronze_volume_path}\")\n",
    "\n",
    "# COMMAND ----------\n",
    "@log_execution(logger)\n",
    "def read_landing_csv(table_name: str):\n",
    "    input_path = f\"{landing_path}/{table_name}.csv\"\n",
    "    logger.info(f\"📥 Reading file: {input_path}\")\n",
    "    try:\n",
    "        df = (spark.read.option(\"header\", \"true\")\n",
    "                     .csv(input_path)\n",
    "                     .withColumn(\"ingestion_date\", current_timestamp()))\n",
    "        log_dataframe_info(df, f\"{table_name}_read\", logger)\n",
    "        return df\n",
    "    except Exception as e:\n",
    "        logger.error(f\"❌ Error reading {input_path}: {e}\")\n",
    "        raise\n",
    "\n",
    "# COMMAND ----------\n",
    "@log_execution(logger)\n",
    "def write_csv_to_bronze(df, table_name: str):\n",
    "    output_path = f\"{bronze_volume_path}/{table_name}\"\n",
    "    logger.info(f\"💾 Writing to: {output_path}\")\n",
    "    try:\n",
    "        df.coalesce(1).write.option(\"header\", \"true\").mode(\"overwrite\").format(\"csv\").save(output_path)\n",
    "        logger.info(f\"✅ Successfully written {table_name} to bronze volume\")\n",
    "    except Exception as e:\n",
    "        logger.error(f\"❌ Failed to write {table_name}: {e}\")\n",
    "        raise\n",
    "\n",
    "# COMMAND ----------\n",
    "def already_ingested(table_name: str) -> bool:\n",
    "    output_path = f\"{bronze_volume_path}/{table_name}\"\n",
    "    try:\n",
    "        files = dbutils.fs.ls(output_path)\n",
    "        return any(\".csv\" in f.name for f in files)\n",
    "    except:\n",
    "        return False\n",
    "\n",
    "# COMMAND ----------\n",
    "def process_table(table_name):\n",
    "    logger.info(f\"🚀 Processing: {table_name}\")\n",
    "\n",
    "    if not force_reprocess and already_ingested(table_name):\n",
    "        logger.info(f\"⏩ Skipping {table_name}: already exists in bronze volume\")\n",
    "        return \"SKIPPED\"\n",
    "\n",
    "    try:\n",
    "        df = read_landing_csv(table_name)\n",
    "        write_csv_to_bronze(df, table_name)\n",
    "\n",
    "        row_count = df.count()\n",
    "        logger.info(f\"✅ Completed {table_name}: {row_count} rows written\")\n",
    "        return \"SUCCESS\"\n",
    "\n",
    "    except Exception as e:\n",
    "        logger.error(f\"❌ Failed processing {table_name}: {e}\")\n",
    "        return \"FAILED\"\n",
    "\n",
    "# COMMAND ----------\n",
    "status_map = {}\n",
    "for tbl in tables:\n",
    "    status = process_table(tbl)\n",
    "    status_map[tbl] = status\n",
    "\n",
    "logger.info(f\"🏁 Bronze ingestion completed. Status: {status_map}\")\n",
    "\n"
   ]
  },
  {
   "cell_type": "code",
   "execution_count": 0,
   "metadata": {
    "application/vnd.databricks.v1+cell": {
     "cellMetadata": {
      "byteLimit": 2048000,
      "rowLimit": 10000
     },
     "inputWidgets": {},
     "nuid": "373d4804-279b-4749-ab51-932b6f12d784",
     "showTitle": false,
     "tableResultSettingsMap": {},
     "title": ""
    }
   },
   "outputs": [],
   "source": [
    "\n",
    "# # === Create Volume ===\n",
    "# spark.sql(f\"\"\"\n",
    "#     CREATE VOLUME IF NOT EXISTS {catalog}.{bronze_schema}.{bronze_volume_name}\n",
    "# \"\"\")\n",
    "\n",
    "# # === Loop through each file and ingest ===\n",
    "# for file in tables_to_process:\n",
    "#     input_path = f\"{landing_path}/{file}.csv\"\n",
    "    \n",
    "#     df = (\n",
    "#         spark.read.format(\"csv\")\n",
    "#         .option(\"header\", \"true\")\n",
    "#         .load(input_path)\n",
    "#         .withColumn(\"ingestion_date\", current_timestamp())\n",
    "#     )\n",
    "\n",
    "#     # display(df)\n",
    "\n",
    "#     # Write to Delta inside the volume (as a folder for each table)\n",
    "#     df.coalesce(1).write.format(\"csv\") \\\n",
    "#         .option(\"header\",\"true\") \\\n",
    "#         .mode(\"overwrite\") \\\n",
    "#         .save(f\"{bronze_volume_path}/{file}\")\n",
    "\n",
    "#     logger.info(f\"✅ Ingested {file}.csv into volume {bronze_volume_name} under folder {file}\")\n"
   ]
  }
 ],
 "metadata": {
  "application/vnd.databricks.v1+notebook": {
   "computePreferences": null,
   "dashboards": [],
   "environmentMetadata": {
    "base_environment": "",
    "environment_version": "2"
   },
   "inputWidgetPreferences": null,
   "language": "python",
   "notebookMetadata": {
    "mostRecentlyExecutedCommandWithImplicitDF": {
     "commandId": 7412101452968621,
     "dataframes": [
      "_sqldf"
     ]
    },
    "pythonIndentUnit": 4,
    "widgetLayout": []
   },
   "notebookName": "Landing_to_bronze",
   "widgets": {
    "force_reprocess": {
     "currentValue": "true",
     "nuid": "d4eb675b-1520-43dd-a8ff-9177b31e2cd9",
     "typedWidgetInfo": {
      "autoCreated": false,
      "defaultValue": "true",
      "label": null,
      "name": "force_reprocess",
      "options": {
       "widgetDisplayType": "Dropdown",
       "choices": [
        "true",
        "false"
       ],
       "fixedDomain": true,
       "multiselect": false
      },
      "parameterDataType": "String"
     },
     "widgetInfo": {
      "widgetType": "dropdown",
      "defaultValue": "true",
      "label": null,
      "name": "force_reprocess",
      "options": {
       "widgetType": "dropdown",
       "autoCreated": null,
       "choices": [
        "true",
        "false"
       ]
      }
     }
    },
    "mode": {
     "currentValue": "all",
     "nuid": "08481a29-70da-4487-a330-169463c0b39a",
     "typedWidgetInfo": {
      "autoCreated": false,
      "defaultValue": "all",
      "label": null,
      "name": "mode",
      "options": {
       "widgetDisplayType": "Dropdown",
       "choices": [
        "all",
        "single"
       ],
       "fixedDomain": true,
       "multiselect": false
      },
      "parameterDataType": "String"
     },
     "widgetInfo": {
      "widgetType": "dropdown",
      "defaultValue": "all",
      "label": null,
      "name": "mode",
      "options": {
       "widgetType": "dropdown",
       "autoCreated": null,
       "choices": [
        "all",
        "single"
       ]
      }
     }
    },
    "table_name": {
     "currentValue": "",
     "nuid": "e2dd7206-0f23-46a1-b53e-1639221238c7",
     "typedWidgetInfo": {
      "autoCreated": false,
      "defaultValue": "",
      "label": null,
      "name": "table_name",
      "options": {
       "widgetDisplayType": "Text",
       "validationRegex": null
      },
      "parameterDataType": "String"
     },
     "widgetInfo": {
      "widgetType": "text",
      "defaultValue": "",
      "label": null,
      "name": "table_name",
      "options": {
       "widgetType": "text",
       "autoCreated": null,
       "validationRegex": null
      }
     }
    }
   }
  },
  "language_info": {
   "name": "python"
  }
 },
 "nbformat": 4,
 "nbformat_minor": 0
}

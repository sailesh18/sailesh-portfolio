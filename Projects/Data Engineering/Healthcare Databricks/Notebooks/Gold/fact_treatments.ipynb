{
 "cells": [
  {
   "cell_type": "code",
   "execution_count": 0,
   "metadata": {
    "application/vnd.databricks.v1+cell": {
     "cellMetadata": {
      "byteLimit": 2048000,
      "rowLimit": 10000
     },
     "inputWidgets": {},
     "nuid": "1c08c941-229c-438b-957c-61961f55ecfe",
     "showTitle": false,
     "tableResultSettingsMap": {},
     "title": ""
    }
   },
   "outputs": [],
   "source": [
    "%run ../.././start_up "
   ]
  },
  {
   "cell_type": "code",
   "execution_count": 0,
   "metadata": {
    "application/vnd.databricks.v1+cell": {
     "cellMetadata": {
      "byteLimit": 2048000,
      "rowLimit": 10000
     },
     "inputWidgets": {},
     "nuid": "5a4f45d6-b86e-49aa-a063-c41fb7e336e2",
     "showTitle": false,
     "tableResultSettingsMap": {},
     "title": ""
    }
   },
   "outputs": [],
   "source": [
    "logger = create_logger(notebook_name=\"landing_to_bronze\", log_level=\"DEBUG\")\n",
    "logger.info(\"🚀 Initializing landing_to_bronze notebook\")\n",
    "\n",
    "# Extract frequently used config values into variables\n",
    "catalog = pipeline_config[\"catalog\"]\n",
    "bronze_schema = pipeline_config[\"schemas\"][\"bronze\"]\n",
    "bronze_path = pipeline_config[\"paths\"][\"bronze_path\"]\n",
    "bronze_volume_path = pipeline_config[\"paths\"][\"bronze_volume_path\"]\n",
    "silver_schema = pipeline_config[\"schemas\"][\"silver\"]\n",
    "silver_path = pipeline_config[\"paths\"][\"silver_path\"]\n",
    "landing_schema= pipeline_config[\"schemas\"][\"landing\"]\n",
    "landing_path = pipeline_config[\"paths\"][\"landing_path\"]\n",
    "logs_schema = pipeline_config[\"schemas\"][\"logs\"]\n",
    "table_name = \"fact_treatments\"\n",
    "logger.info(\"Extracted frequently used config values into variables\")"
   ]
  },
  {
   "cell_type": "code",
   "execution_count": 0,
   "metadata": {
    "application/vnd.databricks.v1+cell": {
     "cellMetadata": {
      "byteLimit": 2048000,
      "rowLimit": 10000
     },
     "inputWidgets": {},
     "nuid": "dfdbf546-22dd-4746-bd74-fc3868265da3",
     "showTitle": false,
     "tableResultSettingsMap": {},
     "title": ""
    }
   },
   "outputs": [],
   "source": [
    "\n",
    "# --- Setup ---\n",
    "spark.sql(f\"CREATE SCHEMA IF NOT EXISTS {catalog}.{gold_schema}\")\n",
    "\n",
    "# Paths and config\n",
    "silver_table = f\"{catalog}.{silver_schema}.treatments\"\n",
    "gold_table = f\"{catalog}.{gold_schema}.{table_name}\"\n"
   ]
  },
  {
   "cell_type": "code",
   "execution_count": 0,
   "metadata": {
    "application/vnd.databricks.v1+cell": {
     "cellMetadata": {
      "byteLimit": 2048000,
      "rowLimit": 10000
     },
     "inputWidgets": {},
     "nuid": "76513c4b-299b-4917-84ea-1b8401b57625",
     "showTitle": false,
     "tableResultSettingsMap": {},
     "title": ""
    }
   },
   "outputs": [],
   "source": [
    "# fact_treatments.py (Gold Layer - SCD Type 1 with Derived Columns, Composite PK - Managed Table)\n",
    "from pyspark.sql.functions import col, when, current_timestamp\n",
    "from delta.tables import DeltaTable\n",
    "\n",
    "# Read only active records from Silver layer\n",
    "logger.info(f\"📥 Reading silver table: {silver_table}\")\n",
    "silver_df = spark.table(silver_table).filter(\"is_current = true\")\n",
    "\n",
    "# Drop SCD2 columns\n",
    "columns_to_drop = [\"is_current\", \"valid_from\", \"valid_to\"]\n",
    "silver_df = silver_df.drop(*[c for c in columns_to_drop if c in silver_df.columns])\n",
    "\n",
    "# Add derived column\n",
    "logger.info(\"✨ Adding derived column: treatment_cost_bucket\")\n",
    "silver_df = silver_df.withColumn(\n",
    "    \"treatment_cost_bucket\",\n",
    "    when(col(\"treatment_cost\") < 1000, \"Low\")\n",
    "    .when(col(\"treatment_cost\") < 10000, \"Medium\")\n",
    "    .otherwise(\"High\")\n",
    ").withColumn(\"record_updated_ts\", current_timestamp())\n",
    "\n",
    "# Extract schema string\n",
    "logger.info(\"🧱 Extracting schema for table creation\")\n",
    "schema_extracted = \",\\n\".join(\n",
    "    f\"    {field.name} {field.dataType.simpleString().upper()}\"\n",
    "    for field in silver_df.schema.fields\n",
    ")\n",
    "\n",
    "# Get composite primary key\n",
    "primary_keys = dim_table_config[\"fact_treatments\"][\"primary_key\"]  # [\"treatment_id\", \"visit_id\"]\n",
    "primary_key_str = \", \".join(primary_keys)\n",
    "\n",
    "# Create table if not exists\n",
    "logger.info(\"🧰 Checking if Gold table exists\")\n",
    "table_exists = spark.catalog.tableExists(gold_table)\n",
    "\n",
    "if not table_exists:\n",
    "    logger.info(\"📐 Creating managed Gold table with composite PK\")\n",
    "    create_sql = f\"\"\"\n",
    "        CREATE TABLE IF NOT EXISTS {gold_table} (\n",
    "{schema_extracted},\n",
    "            CONSTRAINT pk_fact_treatments PRIMARY KEY ({primary_key_str})\n",
    "        )\n",
    "        USING DELTA\n",
    "    \"\"\"\n",
    "    spark.sql(create_sql)\n",
    "\n",
    "    logger.info(\"💾 Writing initial data\")\n",
    "    silver_df.write.format(\"delta\") \\\n",
    "        .mode(\"overwrite\") \\\n",
    "        .option(\"mergeSchema\", \"true\") \\\n",
    "        .saveAsTable(gold_table)\n",
    "\n",
    "else:\n",
    "    logger.info(\"🔁 Table exists. Applying MERGE INTO for SCD Type 1\")\n",
    "    delta_table = DeltaTable.forName(spark, gold_table)\n",
    "\n",
    "    merge_condition = \" AND \".join([f\"target.{pk} = source.{pk}\" for pk in primary_keys])\n",
    "\n",
    "    delta_table.alias(\"target\").merge(\n",
    "        silver_df.alias(\"source\"),\n",
    "        merge_condition\n",
    "    ).whenMatchedUpdateAll() \\\n",
    "     .whenNotMatchedInsertAll() \\\n",
    "     .execute()\n",
    "\n",
    "# Final view\n",
    "if silver_df.count() == 0:\n",
    "    logger.info(\"⚠️ No active data found for fact_treatments\")\n",
    "else:\n",
    "    display(silver_df)\n"
   ]
  }
 ],
 "metadata": {
  "application/vnd.databricks.v1+notebook": {
   "computePreferences": null,
   "dashboards": [],
   "environmentMetadata": {
    "base_environment": "",
    "environment_version": "2"
   },
   "inputWidgetPreferences": null,
   "language": "python",
   "notebookMetadata": {
    "pythonIndentUnit": 4
   },
   "notebookName": "fact_treatments",
   "widgets": {}
  },
  "language_info": {
   "name": "python"
  }
 },
 "nbformat": 4,
 "nbformat_minor": 0
}

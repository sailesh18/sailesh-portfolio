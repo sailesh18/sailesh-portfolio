{
 "cells": [
  {
   "cell_type": "code",
   "execution_count": 0,
   "metadata": {
    "application/vnd.databricks.v1+cell": {
     "cellMetadata": {
      "byteLimit": 2048000,
      "rowLimit": 10000
     },
     "inputWidgets": {},
     "nuid": "3e170b6d-b50c-4507-9770-1474b2d8dd33",
     "showTitle": false,
     "tableResultSettingsMap": {},
     "title": ""
    }
   },
   "outputs": [],
   "source": [
    "%run ../.././start_up "
   ]
  },
  {
   "cell_type": "code",
   "execution_count": 0,
   "metadata": {
    "application/vnd.databricks.v1+cell": {
     "cellMetadata": {
      "byteLimit": 2048000,
      "rowLimit": 10000
     },
     "inputWidgets": {},
     "nuid": "c77c275f-93f6-46d8-8760-59931fe186d8",
     "showTitle": false,
     "tableResultSettingsMap": {},
     "title": ""
    }
   },
   "outputs": [],
   "source": [
    "logger = create_logger(notebook_name=\"landing_to_bronze\", log_level=\"DEBUG\")\n",
    "logger.info(\"🚀 Initializing landing_to_bronze notebook\")\n",
    "\n",
    "# Extract frequently used config values into variables\n",
    "catalog = pipeline_config[\"catalog\"]\n",
    "bronze_schema = pipeline_config[\"schemas\"][\"bronze\"]\n",
    "bronze_path = pipeline_config[\"paths\"][\"bronze_path\"]\n",
    "bronze_volume_path = pipeline_config[\"paths\"][\"bronze_volume_path\"]\n",
    "silver_schema = pipeline_config[\"schemas\"][\"silver\"]\n",
    "silver_path = pipeline_config[\"paths\"][\"silver_path\"]\n",
    "landing_schema= pipeline_config[\"schemas\"][\"landing\"]\n",
    "landing_path = pipeline_config[\"paths\"][\"landing_path\"]\n",
    "logs_schema = pipeline_config[\"schemas\"][\"logs\"]\n",
    "table_name = \"dim_doctors\"\n",
    "logger.info(\"Extracted frequently used config values into variables\")"
   ]
  },
  {
   "cell_type": "code",
   "execution_count": 0,
   "metadata": {
    "application/vnd.databricks.v1+cell": {
     "cellMetadata": {
      "byteLimit": 2048000,
      "rowLimit": 10000
     },
     "inputWidgets": {},
     "nuid": "42f190c3-1dc6-4887-a9b2-5424ed18de3a",
     "showTitle": false,
     "tableResultSettingsMap": {},
     "title": ""
    }
   },
   "outputs": [],
   "source": [
    "\n",
    "# --- Setup ---\n",
    "spark.sql(f\"CREATE SCHEMA IF NOT EXISTS {catalog}.{gold_schema}\")\n",
    "\n",
    "# Paths and config\n",
    "silver_table = f\"{catalog}.{silver_schema}.doctors\"\n",
    "gold_table = f\"{catalog}.{gold_schema}.{table_name}\"\n"
   ]
  },
  {
   "cell_type": "code",
   "execution_count": 0,
   "metadata": {
    "application/vnd.databricks.v1+cell": {
     "cellMetadata": {
      "byteLimit": 2048000,
      "rowLimit": 10000
     },
     "inputWidgets": {},
     "nuid": "3adc7d47-0e98-406b-a89f-7a13cbad1805",
     "showTitle": false,
     "tableResultSettingsMap": {},
     "title": ""
    }
   },
   "outputs": [],
   "source": [
    "# dim_doctors.py (Gold Layer - SCD Type 1 with Derived Columns, Surrogate Key, and PK - Managed Table)\n",
    "from pyspark.sql.functions import col, upper, trim, current_timestamp, lit, when, monotonically_increasing_id\n",
    "from delta.tables import DeltaTable\n",
    "\n",
    "# Read only active records from silver layer\n",
    "logger.info(f\"📥 Reading silver table: {silver_table}\")\n",
    "silver_df = spark.table(silver_table).filter(\"is_current = true\")\n",
    "\n",
    "# Drop SCD2 columns\n",
    "columns_to_drop = [\"is_current\", \"valid_from\", \"valid_to\"]\n",
    "silver_df = silver_df.drop(*[c for c in columns_to_drop if c in silver_df.columns])\n",
    "\n",
    "# Add surrogate key and derived columns\n",
    "logger.info(\"✨ Adding surrogate key and derived columns\")\n",
    "silver_df = silver_df \\\n",
    "    .withColumn(\"doctor_sk\", monotonically_increasing_id()) \\\n",
    "    .withColumn(\"experience_level\", \n",
    "        when(col(\"experience_years\") >= 15, \"Senior\")\n",
    "        .when(col(\"experience_years\") >= 5, \"Mid-Level\")\n",
    "        .when(col(\"experience_years\").isNotNull(), \"Junior\")\n",
    "        .otherwise(\"Unknown\")\n",
    "    ) \\\n",
    "    .withColumn(\"record_updated_ts\", current_timestamp())\n",
    "\n",
    "# Reorder columns to place surrogate key first\n",
    "cols = [\"doctor_sk\"] + [c for c in silver_df.columns if c != \"doctor_sk\"]\n",
    "silver_df = silver_df.select(cols)\n",
    "\n",
    "# Extract schema string\n",
    "logger.info(\"🧱 Extracting schema for table creation\")\n",
    "schema_extracted = \",\\n\".join(\n",
    "    f\"    {field.name} {field.dataType.simpleString().upper()}\"\n",
    "    for field in silver_df.schema.fields\n",
    ")\n",
    "\n",
    "# Primary key from config\n",
    "primary_key = dim_table_config[\"dim_doctors\"][\"primary_key\"]\n",
    "\n",
    "# Create table if not exists\n",
    "logger.info(\"🧰 Checking if Gold table exists\")\n",
    "table_exists = spark.catalog.tableExists(gold_table)\n",
    "\n",
    "if not table_exists:\n",
    "    logger.info(\"📐 Creating managed Gold table with PK constraint\")\n",
    "    create_sql = f\"\"\"\n",
    "        CREATE TABLE IF NOT EXISTS {gold_table} (\n",
    "{schema_extracted},\n",
    "            CONSTRAINT pk_dim_doctors PRIMARY KEY ({primary_key})\n",
    "        )\n",
    "        USING DELTA\n",
    "    \"\"\"\n",
    "    spark.sql(create_sql)\n",
    "\n",
    "    logger.info(\"💾 Writing initial data\")\n",
    "    silver_df.write.format(\"delta\") \\\n",
    "        .mode(\"overwrite\") \\\n",
    "        .option(\"mergeSchema\", \"true\") \\\n",
    "        .saveAsTable(gold_table)\n",
    "\n",
    "else:\n",
    "    logger.info(\"🔁 Table exists. Applying MERGE INTO for SCD Type 1\")\n",
    "    delta_table = DeltaTable.forName(spark, gold_table)\n",
    "\n",
    "    delta_table.alias(\"target\").merge(\n",
    "        silver_df.alias(\"source\"),\n",
    "        f\"target.{primary_key} = source.{primary_key}\"\n",
    "    ).whenMatchedUpdateAll() \\\n",
    "     .whenNotMatchedInsertAll() \\\n",
    "     .execute()\n",
    "\n",
    "# Final view\n",
    "if silver_df.count() == 0:\n",
    "    logger.info(\"⚠️ No active data found for dim_doctors\")\n",
    "else:\n",
    "    display(silver_df)\n"
   ]
  }
 ],
 "metadata": {
  "application/vnd.databricks.v1+notebook": {
   "computePreferences": null,
   "dashboards": [],
   "environmentMetadata": {
    "base_environment": "",
    "environment_version": "2"
   },
   "inputWidgetPreferences": null,
   "language": "python",
   "notebookMetadata": {
    "mostRecentlyExecutedCommandWithImplicitDF": {
     "commandId": 5021596362631871,
     "dataframes": [
      "_sqldf"
     ]
    },
    "pythonIndentUnit": 4
   },
   "notebookName": "dim_doctors",
   "widgets": {}
  },
  "language_info": {
   "name": "python"
  }
 },
 "nbformat": 4,
 "nbformat_minor": 0
}

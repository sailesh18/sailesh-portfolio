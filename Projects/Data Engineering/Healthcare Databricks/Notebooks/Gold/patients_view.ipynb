{
 "cells": [
  {
   "cell_type": "code",
   "execution_count": 0,
   "metadata": {
    "application/vnd.databricks.v1+cell": {
     "cellMetadata": {
      "byteLimit": 2048000,
      "rowLimit": 10000
     },
     "inputWidgets": {},
     "nuid": "3cc532c1-a9a1-4d8b-968e-af1107eb4106",
     "showTitle": false,
     "tableResultSettingsMap": {},
     "title": ""
    }
   },
   "outputs": [],
   "source": [
    "%run ../.././start_up "
   ]
  },
  {
   "cell_type": "code",
   "execution_count": 0,
   "metadata": {
    "application/vnd.databricks.v1+cell": {
     "cellMetadata": {
      "byteLimit": 2048000,
      "rowLimit": 10000
     },
     "inputWidgets": {},
     "nuid": "e2fab3d0-2a27-45ec-ad27-25b5e3a35bc4",
     "showTitle": false,
     "tableResultSettingsMap": {},
     "title": ""
    }
   },
   "outputs": [],
   "source": [
    "logger = create_logger(notebook_name=\"landing_to_bronze\", log_level=\"DEBUG\")\n",
    "logger.info(\"🚀 Initializing landing_to_bronze notebook\")\n",
    "\n",
    "# Extract frequently used config values into variables\n",
    "catalog = pipeline_config[\"catalog\"]\n",
    "bronze_schema = pipeline_config[\"schemas\"][\"bronze\"]\n",
    "bronze_path = pipeline_config[\"paths\"][\"bronze_path\"]\n",
    "bronze_volume_path = pipeline_config[\"paths\"][\"bronze_volume_path\"]\n",
    "silver_schema = pipeline_config[\"schemas\"][\"silver\"]\n",
    "silver_path = pipeline_config[\"paths\"][\"silver_path\"]\n",
    "landing_schema= pipeline_config[\"schemas\"][\"landing\"]\n",
    "landing_path = pipeline_config[\"paths\"][\"landing_path\"]\n",
    "logs_schema = pipeline_config[\"schemas\"][\"logs\"]\n",
    "table_name = \"dim_doctors\"\n",
    "logger.info(\"Extracted frequently used config values into variables\")"
   ]
  },
  {
   "cell_type": "code",
   "execution_count": 0,
   "metadata": {
    "application/vnd.databricks.v1+cell": {
     "cellMetadata": {
      "byteLimit": 2048000,
      "rowLimit": 10000
     },
     "inputWidgets": {},
     "nuid": "4988a3bf-478f-45b0-b9a8-5d6adcd4f39d",
     "showTitle": false,
     "tableResultSettingsMap": {},
     "title": ""
    }
   },
   "outputs": [],
   "source": [
    "from pyspark.sql.functions import current_timestamp\n",
    "# ------------------------- Required Tables -------------------------\n",
    "required_tables = [\n",
    "    \"healthcare.gold.dim_patients\",\n",
    "    \"healthcare.gold.dim_visits\",\n",
    "    \"healthcare.gold.fact_treatments\"\n",
    "]\n",
    "\n",
    "# ------------------------- Error Logging Function -------------------------\n",
    "def log_etl_error(entity_name, failure_stage, error_reason):\n",
    "    logger.error(f\"❌ Logging ETL error: [{entity_name}] - Stage: {failure_stage} - Reason: {error_reason}\")\n",
    "    \n",
    "    # Create DataFrame with error details\n",
    "    error_data = [(entity_name, failure_stage, error_reason)]\n",
    "    error_df = spark.createDataFrame(error_data, [\"entity_name\", \"failure_stage\", \"error_reason\"]) \\\n",
    "                    .withColumn(\"timestamp\", current_timestamp())\n",
    "\n",
    "    # Check if error table exists; if not, create it\n",
    "    if not spark.catalog.tableExists(\"healthcare.gold.etl_error_log\"):\n",
    "        logger.warn(\"⚠️ Error log table not found, creating it now: healthcare.gold.etl_error_log\")\n",
    "        error_df.write.format(\"delta\") \\\n",
    "            .mode(\"overwrite\") \\\n",
    "            .saveAsTable(\"healthcare.gold.etl_error_log\")\n",
    "    else:\n",
    "        error_df.write.format(\"delta\") \\\n",
    "            .mode(\"append\") \\\n",
    "            .saveAsTable(\"healthcare.gold.etl_error_log\")\n",
    "\n",
    "# ------------------------- Table Existence Check -------------------------\n",
    "logger.info(\"🧪 Checking if required Gold tables exist\")\n",
    "missing_tables = [tbl for tbl in required_tables if not spark.catalog.tableExists(tbl)]\n",
    "\n"
   ]
  },
  {
   "cell_type": "code",
   "execution_count": 0,
   "metadata": {
    "application/vnd.databricks.v1+cell": {
     "cellMetadata": {
      "byteLimit": 2048000,
      "rowLimit": 10000
     },
     "inputWidgets": {},
     "nuid": "82f6f9e6-91a5-4a47-8cb7-9da0550a1460",
     "showTitle": false,
     "tableResultSettingsMap": {},
     "title": ""
    }
   },
   "outputs": [],
   "source": [
    "# patient_treatment_journey.py (Gold View Builder - Patient Treatment Journey)\n",
    "\n",
    "if missing_tables:\n",
    "    reason = \", \".join(missing_tables)\n",
    "    log_etl_error(\n",
    "        entity_name=\"view_patient_treatment_journey\",\n",
    "        failure_stage=\"check_tables\",\n",
    "        error_reason=reason\n",
    "    )\n",
    "    logger.info(\"🚨 Aborting view creation due to missing input tables\")\n",
    "else:\n",
    "    logger.info(\"✅ All required input tables are present\")\n",
    "        # ------------------------- Logging Start -------------------------\n",
    "    logger.info(\"🚀 Starting Gold View creation: view_patient_treatment_journey\")\n",
    "\n",
    "# ------------------------- SQL for View -------------------------\n",
    "    logger.info(\"🧠 Constructing SQL for patient treatment journey view\")\n",
    "\n",
    "    view_sql = \"\"\"\n",
    "    CREATE OR REPLACE VIEW healthcare.gold.view_patient_treatment_journey AS\n",
    "    SELECT \n",
    "        p.patient_id,\n",
    "        p.patient_name,\n",
    "        p.gender,\n",
    "        p.age,\n",
    "        p.region,\n",
    "\n",
    "        MIN(v.visit_date) AS first_visit_date,\n",
    "        MAX(v.visit_date) AS last_visit_date,\n",
    "        DATEDIFF(MAX(v.visit_date), MIN(v.visit_date)) AS treatment_duration_days,\n",
    "\n",
    "        COUNT(DISTINCT v.visit_id) AS total_visits,\n",
    "        COUNT(t.treatment_id) AS total_treatments,\n",
    "\n",
    "        SUM(t.treatment_cost) AS total_treatment_cost,\n",
    "        ROUND(AVG(t.treatment_cost), 2) AS avg_treatment_cost\n",
    "\n",
    "        FROM healthcare.gold.dim_patients p\n",
    "        LEFT JOIN healthcare.gold.dim_visits v ON p.patient_id = v.patient_id\n",
    "        LEFT JOIN healthcare.gold.fact_treatments t ON v.visit_id = t.visit_id\n",
    "\n",
    "        GROUP BY \n",
    "        p.patient_id,\n",
    "        p.patient_name,\n",
    "        p.gender,\n",
    "        p.age,\n",
    "        p.region\n",
    "    \"\"\"\n",
    "\n",
    "# ------------------------- Execute SQL -------------------------\n",
    "    logger.info(\"📐 Executing SQL to create or replace view: healthcare.gold.view_patient_treatment_journey\")\n",
    "    spark.sql(view_sql)\n",
    "\n",
    "# ------------------------- Preview View -------------------------\n",
    "    logger.info(\"🔍 Previewing data from vw_patient_treatment_journey\")\n",
    "    preview_df = spark.sql(\"SELECT * FROM healthcare.gold.view_patient_treatment_journey\")\n",
    "    display(preview_df)\n",
    "\n",
    "    logger.info(\"✅ Gold View created successfully: vw_patient_treatment_journey\")"
   ]
  }
 ],
 "metadata": {
  "application/vnd.databricks.v1+notebook": {
   "computePreferences": null,
   "dashboards": [],
   "environmentMetadata": {
    "base_environment": "",
    "environment_version": "2"
   },
   "inputWidgetPreferences": null,
   "language": "python",
   "notebookMetadata": {
    "mostRecentlyExecutedCommandWithImplicitDF": {
     "commandId": 8268039575300425,
     "dataframes": [
      "_sqldf"
     ]
    },
    "pythonIndentUnit": 4
   },
   "notebookName": "patients_view",
   "widgets": {}
  },
  "language_info": {
   "name": "python"
  }
 },
 "nbformat": 4,
 "nbformat_minor": 0
}

{
 "cells": [
  {
   "cell_type": "code",
   "execution_count": 0,
   "metadata": {
    "application/vnd.databricks.v1+cell": {
     "cellMetadata": {
      "byteLimit": 2048000,
      "rowLimit": 10000
     },
     "inputWidgets": {},
     "nuid": "aa88da64-99df-4c08-ad93-fe53d11bbbbd",
     "showTitle": false,
     "tableResultSettingsMap": {},
     "title": ""
    }
   },
   "outputs": [],
   "source": [
    "catalog=\"healthcare\"\n",
    "landing_schema=\"landing\"\n",
    "bronze_schema=\"bronze\"\n",
    "silver_schema=\"silver\"\n",
    "gold_schema=\"gold\"\n",
    "logs_schema=\"logs\""
   ]
  },
  {
   "cell_type": "code",
   "execution_count": 0,
   "metadata": {
    "application/vnd.databricks.v1+cell": {
     "cellMetadata": {
      "byteLimit": 2048000,
      "rowLimit": 10000
     },
     "inputWidgets": {},
     "nuid": "2b7ae707-f0d6-4d17-8f9f-ecb158c4ebe5",
     "showTitle": false,
     "tableResultSettingsMap": {},
     "title": ""
    }
   },
   "outputs": [],
   "source": [
    "tables_to_process = [\"patients\",\"doctors\",\"visits\",\"treatments\"]\n",
    "\n",
    "# landing_path=f\"{catalog}.{landing_schema}\"\n",
    "landing_path=f\"/Volumes/healthcare/landing/landing_volume\"\n",
    "log_path=f\"{catalog}.{logs_schema}\"\n",
    "bronze_path=f\"{catalog}.{bronze_schema}\"\n",
    "silver_path=f\"{catalog}.{silver_schema}\"\n",
    "gold_path=f\"{catalog}.{gold_schema}\""
   ]
  },
  {
   "cell_type": "code",
   "execution_count": 0,
   "metadata": {
    "application/vnd.databricks.v1+cell": {
     "cellMetadata": {
      "byteLimit": 2048000,
      "rowLimit": 10000
     },
     "inputWidgets": {},
     "nuid": "d3456ead-10bf-44b5-aacb-842c9a9eac2f",
     "showTitle": false,
     "tableResultSettingsMap": {},
     "title": ""
    }
   },
   "outputs": [],
   "source": [
    "pipeline_config = {\n",
    "    \"paths\": {\n",
    "        \"landing_path\": landing_path,\n",
    "        \"bronze_path\": bronze_path,\n",
    "        \"silver_path\": silver_path,\n",
    "        \"gold_path\": gold_path,\n",
    "        \"log_path\": log_path\n",
    "    },\n",
    "    \"catalog\": catalog,\n",
    "    \"schemas\": {\n",
    "        \"landing\": landing_schema,\n",
    "        \"bronze\": bronze_schema,\n",
    "        \"silver\": silver_schema,\n",
    "        \"gold\": gold_schema,\n",
    "        \"logs\": logs_schema\n",
    "    },\n",
    "    \"tables_to_process\": tables_to_process\n",
    "    # \"log_table\": log_table,\n",
    "    # \"delta_properties\": delta_schema_evolution_properties,\n",
    "    # \"materialized_view_properties\": materialized_view_properties,\n",
    "    # \"file_formats\": file_formats,\n",
    "    # \"file_options\": file_options,\n",
    "\n",
    "}"
   ]
  }
 ],
 "metadata": {
  "application/vnd.databricks.v1+notebook": {
   "computePreferences": null,
   "dashboards": [],
   "environmentMetadata": {
    "base_environment": "",
    "environment_version": "2"
   },
   "inputWidgetPreferences": null,
   "language": "python",
   "notebookMetadata": {
    "pythonIndentUnit": 4
   },
   "notebookName": "main_config",
   "widgets": {}
  },
  "language_info": {
   "name": "python"
  }
 },
 "nbformat": 4,
 "nbformat_minor": 0
}

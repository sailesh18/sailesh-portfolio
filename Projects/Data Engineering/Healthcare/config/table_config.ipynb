{
 "cells": [
  {
   "cell_type": "code",
   "execution_count": 0,
   "metadata": {
    "application/vnd.databricks.v1+cell": {
     "cellMetadata": {},
     "inputWidgets": {},
     "nuid": "a84ad56d-a2c6-4205-a8f2-7b51746da8c0",
     "showTitle": false,
     "tableResultSettingsMap": {},
     "title": ""
    }
   },
   "outputs": [],
   "source": [
    "column_mappings = {\n",
    "    \"patients\": {\n",
    "        \"patient_identifier\": \"patient_id\",\n",
    "        \"patient_name\": \"patient_name\",\n",
    "        \"age\": \"sex\",\n",
    "        \"gen\": \"gender\",\n",
    "        \"ctry\" : \"country\"\n",
    "    },\n",
    "    \"doctors\": {\n",
    "        \"doctor_identifier\": \"doctor_id\",\n",
    "        \"doc_name\": \"doctor_name\",\n",
    "        \"dept\": \"department\",\n",
    "        \"years_exp\": \"experience_years\"\n",
    "    },\n",
    "    \"visits\": {\n",
    "        \"visit_identifier\": \"visit_id\",\n",
    "        \"patient_identifier\": \"patient_id\",\n",
    "        \"doctor_identifier\": \"doctor_id\",\n",
    "        \"visit_day\": \"visit_date\",\n",
    "        \"follow\" : \"follow_up\"\n",
    "    },\n",
    "    \"treatments\": {\n",
    "        \"treatment_identifier\": \"treatment_id\",\n",
    "        \"visit_identifier\": \"visit_id\",\n",
    "        \"treatment_method\": \"treatment_type\",\n",
    "        \"treatment_amount\": \"treatment_cost\",\n",
    "        \"insurance_giver\" : \"insurance_company\"\n",
    "    }\n",
    "}\n",
    "\n",
    "table_config = {\n",
    "    \"patients\": {\n",
    "        \"columns\": {\n",
    "            \"patient_id\": \"STRING\",\n",
    "            \"patient_name\": \"STRING\",\n",
    "            \"sex\": \"INT\",                  # from \"age\" in bronze\n",
    "            \"gender\": \"STRING\",\n",
    "            \"country\": \"STRING\",\n",
    "            \"ingestion_date\": \"TIMESTAMP\"\n",
    "        }\n",
    "    },\n",
    "    \"doctors\": {\n",
    "        \"columns\": {\n",
    "            \"doctor_id\": \"STRING\",\n",
    "            \"doctor_name\": \"STRING\",\n",
    "            \"department\": \"STRING\",\n",
    "            \"experience_years\": \"INT\",\n",
    "            \"ingestion_date\": \"TIMESTAMP\"\n",
    "        }\n",
    "    },\n",
    "    \"visits\": {\n",
    "        \"columns\": {\n",
    "            \"visit_id\": \"STRING\",\n",
    "            \"patient_id\": \"STRING\",\n",
    "            \"doctor_id\": \"STRING\",\n",
    "            \"visit_date\": \"DATE\",\n",
    "            \"follow_up\": \"STRING\",\n",
    "            \"ingestion_date\": \"TIMESTAMP\"\n",
    "        }\n",
    "    },\n",
    "    \"treatments\": {\n",
    "        \"columns\": {\n",
    "            \"treatment_id\": \"STRING\",\n",
    "            \"visit_id\": \"STRING\",\n",
    "            \"treatment_type\": \"STRING\",\n",
    "            \"treatment_cost\": \"DOUBLE\",\n",
    "            \"insurance_company\": \"STRING\",\n",
    "            \"ingestion_date\": \"TIMESTAMP\"\n",
    "        }\n",
    "    }\n",
    "}\n"
   ]
  }
 ],
 "metadata": {
  "application/vnd.databricks.v1+notebook": {
   "computePreferences": null,
   "dashboards": [],
   "environmentMetadata": {
    "base_environment": "",
    "environment_version": "2"
   },
   "inputWidgetPreferences": null,
   "language": "python",
   "notebookMetadata": {
    "pythonIndentUnit": 4
   },
   "notebookName": "table_config",
   "widgets": {}
  },
  "language_info": {
   "name": "python"
  }
 },
 "nbformat": 4,
 "nbformat_minor": 0
}

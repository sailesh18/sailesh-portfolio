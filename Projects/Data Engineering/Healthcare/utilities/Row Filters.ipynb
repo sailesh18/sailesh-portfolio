{
 "cells": [
  {
   "cell_type": "code",
   "execution_count": 0,
   "metadata": {
    "application/vnd.databricks.v1+cell": {
     "cellMetadata": {
      "byteLimit": 2048000,
      "rowLimit": 10000
     },
     "inputWidgets": {},
     "nuid": "b11881b2-1094-4428-8eb9-cb650ed2e952",
     "showTitle": false,
     "tableResultSettingsMap": {},
     "title": ""
    }
   },
   "outputs": [],
   "source": [
    "spark.sql('''CREATE OR REPLACE FUNCTION healthcare.gold.filter_department(department STRING)\n",
    "RETURNS BOOLEAN\n",
    "RETURN\n",
    "    CASE \n",
    "        WHEN current_user() = 'sailesh101813ravichandran@gmail.com' AND department = 'Neurology' THEN TRUE\n",
    "        ELSE FALSE\n",
    "    END;''')"
   ]
  }
 ],
 "metadata": {
  "application/vnd.databricks.v1+notebook": {
   "computePreferences": null,
   "dashboards": [],
   "environmentMetadata": {
    "base_environment": "",
    "environment_version": "2"
   },
   "inputWidgetPreferences": null,
   "language": "python",
   "notebookMetadata": {
    "mostRecentlyExecutedCommandWithImplicitDF": {
     "commandId": 6464926214554064,
     "dataframes": [
      "_sqldf"
     ]
    },
    "pythonIndentUnit": 4
   },
   "notebookName": "Row Filters",
   "widgets": {}
  },
  "language_info": {
   "name": "python"
  }
 },
 "nbformat": 4,
 "nbformat_minor": 0
}

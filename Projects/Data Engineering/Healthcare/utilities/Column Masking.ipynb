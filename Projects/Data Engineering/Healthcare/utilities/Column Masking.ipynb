{
 "cells": [
  {
   "cell_type": "code",
   "execution_count": 0,
   "metadata": {
    "application/vnd.databricks.v1+cell": {
     "cellMetadata": {
      "byteLimit": 2048000,
      "rowLimit": 10000
     },
     "inputWidgets": {},
     "nuid": "3f76455b-4a20-4bc8-babe-6b3921547c17",
     "showTitle": false,
     "tableResultSettingsMap": {},
     "title": ""
    }
   },
   "outputs": [],
   "source": [
    "spark.sql('''CREATE OR REPLACE FUNCTION healthcare.gold.mask_patient_name(patient_name STRING)\n",
    "RETURNS STRING\n",
    "RETURN\n",
    "    CASE \n",
    "        WHEN current_user() = 'sailesh101813@ravichandran@gmail.com' THEN patient_name\n",
    "        WHEN patient_name IS NOT NULL THEN CONCAT(SUBSTRING(patient_name, 1, 1), REPEAT('*', LENGTH(patient_name) - 1))\n",
    "        ELSE NULL\n",
    "    END;''')"
   ]
  },
  {
   "cell_type": "code",
   "execution_count": 0,
   "metadata": {
    "application/vnd.databricks.v1+cell": {
     "cellMetadata": {},
     "inputWidgets": {},
     "nuid": "d5018c43-1809-4cf4-95b2-a6b2f24be286",
     "showTitle": false,
     "tableResultSettingsMap": {},
     "title": ""
    }
   },
   "outputs": [],
   "source": []
  }
 ],
 "metadata": {
  "application/vnd.databricks.v1+notebook": {
   "computePreferences": null,
   "dashboards": [],
   "environmentMetadata": {
    "base_environment": "",
    "environment_version": "2"
   },
   "inputWidgetPreferences": null,
   "language": "python",
   "notebookMetadata": {
    "pythonIndentUnit": 4
   },
   "notebookName": "Column Masking",
   "widgets": {}
  },
  "language_info": {
   "name": "python"
  }
 },
 "nbformat": 4,
 "nbformat_minor": 0
}

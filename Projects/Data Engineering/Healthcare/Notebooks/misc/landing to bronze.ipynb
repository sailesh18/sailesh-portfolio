{
 "cells": [
  {
   "cell_type": "code",
   "execution_count": 0,
   "metadata": {
    "application/vnd.databricks.v1+cell": {
     "cellMetadata": {},
     "inputWidgets": {},
     "nuid": "8c03fc10-fbb9-4fb1-86da-1d0ce704e665",
     "showTitle": false,
     "tableResultSettingsMap": {},
     "title": ""
    }
   },
   "outputs": [],
   "source": [
    "# Ingest data from landing volume\n",
    "from pyspark.sql.functions import current_timestamp\n",
    "for file in tables_to_process:\n",
    "    # Read CSV file from the landing volume\n",
    "    df = spark.read.format(\"csv\").option(\"header\", \"true\").load(\n",
    "        f\"{landing_path}/{file}.csv\"\n",
    "    ).withColumn(\"ingestion_date\", current_timestamp())\n",
    "    \n",
    "    # Display the DataFrame to verify the data\n",
    "    display(df)\n",
    "    \n",
    "    # Write the data into the bronze schema\n",
    "    df.write.format(\"delta\").option(\"mergeschema\",\"true\").mode(\"overwrite\").saveAsTable(\n",
    "        f\"{catalog}.{bronze_schema}.{file}\"\n",
    "    )\n",
    "\n",
    "    logger.info(f\"Data ingested from {file} into {bronze_schema}.{file}\")"
   ]
  },
  {
   "cell_type": "code",
   "execution_count": 0,
   "metadata": {
    "application/vnd.databricks.v1+cell": {
     "cellMetadata": {},
     "inputWidgets": {},
     "nuid": "c2663011-a6bb-44e2-8a18-8fa66f634099",
     "showTitle": false,
     "tableResultSettingsMap": {},
     "title": ""
    }
   },
   "outputs": [],
   "source": [
    "# # patients_to_silver.py\n",
    "# from pyspark.sql.functions import col, current_timestamp\n",
    "# from datetime import datetime\n",
    "\n",
    "# # Create schema if needed\n",
    "# spark.sql(f\"CREATE SCHEMA IF NOT EXISTS {catalog}.{silver_schema}\")\n",
    "\n",
    "# # Table-specific config\n",
    "# input_path = f\"{bronze_volume_path}/{table_name}\"\n",
    "# output_table = f\"{catalog}.{silver_schema}.{table_name}\"\n",
    "\n",
    "# # Read from bronze\n",
    "# logger.info(f\"Reading: {input_path}\")\n",
    "# df = spark.read.format(\"csv\").option(\"header\", \"true\").load(input_path)\n",
    "\n",
    "# # Rename columns\n",
    "# for old_col, new_col in column_mappings[table_name].items():\n",
    "#     if old_col in df.columns:\n",
    "#         df = df.withColumnRenamed(old_col, new_col)\n",
    "\n",
    "# # Add ingestion_date if missing\n",
    "# if \"ingestion_date\" not in df.columns:\n",
    "#     df = df.withColumn(\"ingestion_date\", current_timestamp())\n",
    "\n",
    "# # Enforce data types\n",
    "# for col_name, dtype in table_config[table_name][\"columns\"].items():\n",
    "#     if col_name in df.columns:\n",
    "#         df = df.withColumn(col_name, col(col_name).cast(dtype))\n",
    "\n",
    "# # Write to silver\n",
    "# df.write.format(\"delta\").mode(\"overwrite\").saveAsTable(output_table)\n",
    "# print(f\"✅ Silver table created: {output_table}\")\n"
   ]
  }
 ],
 "metadata": {
  "application/vnd.databricks.v1+notebook": {
   "computePreferences": null,
   "dashboards": [],
   "environmentMetadata": {
    "base_environment": "",
    "environment_version": "2"
   },
   "inputWidgetPreferences": null,
   "language": "python",
   "notebookMetadata": {
    "pythonIndentUnit": 4
   },
   "notebookName": "landing to bronze",
   "widgets": {}
  },
  "language_info": {
   "name": "python"
  }
 },
 "nbformat": 4,
 "nbformat_minor": 0
}

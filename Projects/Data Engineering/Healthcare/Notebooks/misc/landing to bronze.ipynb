{
 "cells": [
  {
   "cell_type": "code",
   "execution_count": 0,
   "metadata": {
    "application/vnd.databricks.v1+cell": {
     "cellMetadata": {},
     "inputWidgets": {},
     "nuid": "8c03fc10-fbb9-4fb1-86da-1d0ce704e665",
     "showTitle": false,
     "tableResultSettingsMap": {},
     "title": ""
    }
   },
   "outputs": [],
   "source": [
    "# Ingest data from landing volume\n",
    "from pyspark.sql.functions import current_timestamp\n",
    "for file in tables_to_process:\n",
    "    # Read CSV file from the landing volume\n",
    "    df = spark.read.format(\"csv\").option(\"header\", \"true\").load(\n",
    "        f\"{landing_path}/{file}.csv\"\n",
    "    ).withColumn(\"ingestion_date\", current_timestamp())\n",
    "    \n",
    "    # Display the DataFrame to verify the data\n",
    "    display(df)\n",
    "    \n",
    "    # Write the data into the bronze schema\n",
    "    df.write.format(\"delta\").option(\"mergeschema\",\"true\").mode(\"overwrite\").saveAsTable(\n",
    "        f\"{catalog}.{bronze_schema}.{file}\"\n",
    "    )\n",
    "\n",
    "    logger.info(f\"Data ingested from {file} into {bronze_schema}.{file}\")"
   ]
  }
 ],
 "metadata": {
  "application/vnd.databricks.v1+notebook": {
   "computePreferences": null,
   "dashboards": [],
   "environmentMetadata": {
    "base_environment": "",
    "environment_version": "2"
   },
   "inputWidgetPreferences": null,
   "language": "python",
   "notebookMetadata": {
    "pythonIndentUnit": 4
   },
   "notebookName": "landing to bronze",
   "widgets": {}
  },
  "language_info": {
   "name": "python"
  }
 },
 "nbformat": 4,
 "nbformat_minor": 0
}

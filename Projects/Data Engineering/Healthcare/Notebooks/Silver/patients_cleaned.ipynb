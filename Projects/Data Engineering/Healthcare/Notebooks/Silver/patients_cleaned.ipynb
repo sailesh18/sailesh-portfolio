{
 "cells": [
  {
   "cell_type": "code",
   "execution_count": 0,
   "metadata": {
    "application/vnd.databricks.v1+cell": {
     "cellMetadata": {
      "byteLimit": 2048000,
      "rowLimit": 10000
     },
     "inputWidgets": {},
     "nuid": "61ccc7be-abb2-42ef-a193-60acf3a8111e",
     "showTitle": false,
     "tableResultSettingsMap": {},
     "title": ""
    }
   },
   "outputs": [],
   "source": [
    "%run ../.././start_up "
   ]
  },
  {
   "cell_type": "code",
   "execution_count": 0,
   "metadata": {
    "application/vnd.databricks.v1+cell": {
     "cellMetadata": {
      "byteLimit": 2048000,
      "rowLimit": 10000
     },
     "inputWidgets": {},
     "nuid": "2fb855ca-4c00-4abf-94e7-3ea1c77de7cd",
     "showTitle": false,
     "tableResultSettingsMap": {},
     "title": ""
    }
   },
   "outputs": [],
   "source": [
    "logger = create_logger(notebook_name=\"landing_to_bronze\", log_level=\"DEBUG\")\n",
    "logger.info(\"🚀 Initializing landing_to_bronze notebook\")\n",
    "\n",
    "# Extract frequently used config values into variables\n",
    "catalog = pipeline_config[\"catalog\"]\n",
    "bronze_schema = pipeline_config[\"schemas\"][\"bronze\"]\n",
    "bronze_path = pipeline_config[\"paths\"][\"bronze_path\"]\n",
    "bronze_volume_path = pipeline_config[\"paths\"][\"bronze_volume_path\"]\n",
    "silver_schema = pipeline_config[\"schemas\"][\"silver\"]\n",
    "silver_path = pipeline_config[\"paths\"][\"silver_path\"]\n",
    "landing_schema= pipeline_config[\"schemas\"][\"landing\"]\n",
    "landing_path = pipeline_config[\"paths\"][\"landing_path\"]\n",
    "logs_schema = pipeline_config[\"schemas\"][\"logs\"]\n",
    "table_name = \"patients\"\n",
    "logger.info(\"Extracted frequently used config values into variables\")"
   ]
  },
  {
   "cell_type": "code",
   "execution_count": 0,
   "metadata": {
    "application/vnd.databricks.v1+cell": {
     "cellMetadata": {
      "byteLimit": 2048000,
      "rowLimit": 10000
     },
     "inputWidgets": {},
     "nuid": "696bc2d1-d253-4165-b142-7ca9af4c4403",
     "showTitle": false,
     "tableResultSettingsMap": {},
     "title": ""
    }
   },
   "outputs": [],
   "source": [
    "# patients_to_silver.py\n",
    "from pyspark.sql.functions import col, current_timestamp\n",
    "from datetime import datetime\n",
    "\n",
    "# Create schema if needed\n",
    "spark.sql(f\"CREATE SCHEMA IF NOT EXISTS {catalog}.{silver_schema}\")\n",
    "\n",
    "# Table-specific config\n",
    "input_path = f\"{bronze_volume_path}/{table_name}\"\n",
    "output_table = f\"{catalog}.{silver_schema}.{table_name}\"\n",
    "\n",
    "# Read from bronze\n",
    "logger.info(f\"Reading: {input_path}\")\n",
    "df = spark.read.format(\"csv\").option(\"header\", \"true\").load(input_path)\n",
    "\n",
    "# Rename columns\n",
    "for old_col, new_col in column_mappings[table_name].items():\n",
    "    if old_col in df.columns:\n",
    "        df = df.withColumnRenamed(old_col, new_col)\n",
    "\n",
    "# Add ingestion_date if missing\n",
    "if \"ingestion_date\" not in df.columns:\n",
    "    df = df.withColumn(\"ingestion_date\", current_timestamp())\n",
    "\n",
    "# Enforce data types\n",
    "for col_name, dtype in table_config[table_name][\"columns\"].items():\n",
    "    if col_name in df.columns:\n",
    "        df = df.withColumn(col_name, col(col_name).cast(dtype))\n",
    "\n",
    "# Write to silver\n",
    "df.write.format(\"delta\").mode(\"overwrite\").saveAsTable(output_table)\n",
    "print(f\"✅ Silver table created: {output_table}\")\n"
   ]
  }
 ],
 "metadata": {
  "application/vnd.databricks.v1+notebook": {
   "computePreferences": null,
   "dashboards": [],
   "environmentMetadata": {
    "base_environment": "",
    "environment_version": "2"
   },
   "inputWidgetPreferences": null,
   "language": "python",
   "notebookMetadata": {
    "mostRecentlyExecutedCommandWithImplicitDF": {
     "commandId": 4976989594782019,
     "dataframes": [
      "_sqldf"
     ]
    },
    "pythonIndentUnit": 4
   },
   "notebookName": "patients_cleaned",
   "widgets": {}
  },
  "language_info": {
   "name": "python"
  }
 },
 "nbformat": 4,
 "nbformat_minor": 0
}

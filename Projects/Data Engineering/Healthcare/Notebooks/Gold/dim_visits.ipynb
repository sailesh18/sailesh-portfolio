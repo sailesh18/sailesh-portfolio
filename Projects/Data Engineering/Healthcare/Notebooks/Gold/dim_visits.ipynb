{
 "cells": [
  {
   "cell_type": "code",
   "execution_count": 0,
   "metadata": {
    "application/vnd.databricks.v1+cell": {
     "cellMetadata": {
      "byteLimit": 2048000,
      "rowLimit": 10000
     },
     "inputWidgets": {},
     "nuid": "002373c3-9059-4004-9713-10433c0b3fb5",
     "showTitle": false,
     "tableResultSettingsMap": {},
     "title": ""
    }
   },
   "outputs": [],
   "source": [
    "%run ../.././start_up "
   ]
  },
  {
   "cell_type": "code",
   "execution_count": 0,
   "metadata": {
    "application/vnd.databricks.v1+cell": {
     "cellMetadata": {
      "byteLimit": 2048000,
      "rowLimit": 10000
     },
     "inputWidgets": {},
     "nuid": "1d9801be-3e65-4bdc-8236-af66aabbfedf",
     "showTitle": false,
     "tableResultSettingsMap": {},
     "title": ""
    }
   },
   "outputs": [],
   "source": [
    "logger = create_logger(notebook_name=\"landing_to_bronze\", log_level=\"DEBUG\")\n",
    "logger.info(\"🚀 Initializing landing_to_bronze notebook\")\n",
    "\n",
    "# Extract frequently used config values into variables\n",
    "catalog = pipeline_config[\"catalog\"]\n",
    "bronze_schema = pipeline_config[\"schemas\"][\"bronze\"]\n",
    "bronze_path = pipeline_config[\"paths\"][\"bronze_path\"]\n",
    "bronze_volume_path = pipeline_config[\"paths\"][\"bronze_volume_path\"]\n",
    "silver_schema = pipeline_config[\"schemas\"][\"silver\"]\n",
    "silver_path = pipeline_config[\"paths\"][\"silver_path\"]\n",
    "landing_schema= pipeline_config[\"schemas\"][\"landing\"]\n",
    "landing_path = pipeline_config[\"paths\"][\"landing_path\"]\n",
    "logs_schema = pipeline_config[\"schemas\"][\"logs\"]\n",
    "table_name = \"dim_visits\"\n",
    "logger.info(\"Extracted frequently used config values into variables\")"
   ]
  },
  {
   "cell_type": "code",
   "execution_count": 0,
   "metadata": {
    "application/vnd.databricks.v1+cell": {
     "cellMetadata": {
      "byteLimit": 2048000,
      "rowLimit": 10000
     },
     "inputWidgets": {},
     "nuid": "18743912-6751-4052-b026-5e0e13a47f21",
     "showTitle": false,
     "tableResultSettingsMap": {},
     "title": ""
    }
   },
   "outputs": [],
   "source": [
    "\n",
    "# --- Setup ---\n",
    "spark.sql(f\"CREATE SCHEMA IF NOT EXISTS {catalog}.{gold_schema}\")\n",
    "\n",
    "# Paths and config\n",
    "silver_table = f\"{catalog}.{silver_schema}.visits\"\n",
    "gold_table = f\"{catalog}.{gold_schema}.{table_name}\"\n"
   ]
  },
  {
   "cell_type": "code",
   "execution_count": 0,
   "metadata": {
    "application/vnd.databricks.v1+cell": {
     "cellMetadata": {
      "byteLimit": 2048000,
      "rowLimit": 10000
     },
     "inputWidgets": {},
     "nuid": "ad37fa40-2ec5-4d43-9b08-0178a2deda3e",
     "showTitle": false,
     "tableResultSettingsMap": {},
     "title": ""
    }
   },
   "outputs": [],
   "source": [
    "# dim_visits.py (Gold Layer - SCD Type 1 with PK - Managed Table)\n",
    "from pyspark.sql.functions import col, current_timestamp\n",
    "from delta.tables import DeltaTable\n",
    "\n",
    "# Read only active records from silver layer\n",
    "logger.info(f\"📅 Reading silver table: {silver_table}\")\n",
    "silver_df = spark.table(silver_table).filter(\"is_current = true\")\n",
    "\n",
    "# Drop SCD2 columns\n",
    "columns_to_drop = [\"is_current\", \"valid_from\", \"valid_to\"]\n",
    "silver_df = silver_df.drop(*[c for c in columns_to_drop if c in silver_df.columns])\n",
    "\n",
    "# Add metadata column\n",
    "logger.info(\"✨ Adding record_updated_ts column\")\n",
    "silver_df = silver_df.withColumn(\"record_updated_ts\", current_timestamp())\n",
    "\n",
    "# Extract schema string\n",
    "logger.info(\"🛠️ Extracting schema for table creation\")\n",
    "schema_extracted = \",\\n\".join(\n",
    "    f\"    {field.name} {field.dataType.simpleString().upper()}\"\n",
    "    for field in silver_df.schema.fields\n",
    ")\n",
    "\n",
    "# Primary key from config\n",
    "primary_key = dim_table_config[\"dim_visits\"][\"primary_key\"]\n",
    "\n",
    "# Create table if not exists\n",
    "logger.info(\"🛠️ Checking if Gold table exists\")\n",
    "table_exists = spark.catalog.tableExists(gold_table)\n",
    "\n",
    "if not table_exists:\n",
    "    logger.info(\"📐 Creating managed Gold table with PK constraint\")\n",
    "    create_sql = f\"\"\"\n",
    "        CREATE TABLE IF NOT EXISTS {gold_table} (\n",
    "{schema_extracted},\n",
    "            CONSTRAINT pk_dim_visits PRIMARY KEY ({primary_key})\n",
    "        )\n",
    "        USING DELTA\n",
    "    \"\"\"\n",
    "    spark.sql(create_sql)\n",
    "\n",
    "    logger.info(\"📂 Writing initial data\")\n",
    "    silver_df.write.format(\"delta\") \\\n",
    "        .mode(\"overwrite\") \\\n",
    "        .option(\"mergeSchema\", \"true\") \\\n",
    "        .saveAsTable(gold_table)\n",
    "\n",
    "else:\n",
    "    logger.info(\"🔄 Table exists. Applying MERGE INTO for SCD Type 1\")\n",
    "    delta_table = DeltaTable.forName(spark, gold_table)\n",
    "\n",
    "    delta_table.alias(\"target\").merge(\n",
    "        silver_df.alias(\"source\"),\n",
    "        f\"target.{primary_key} = source.{primary_key}\"\n",
    "    ).whenMatchedUpdateAll() \\\n",
    "     .whenNotMatchedInsertAll() \\\n",
    "     .execute()\n",
    "\n",
    "# Final view\n",
    "if silver_df.count() == 0:\n",
    "    logger.info(\"⚠️ No active data found for dim_visits\")\n",
    "else:\n",
    "    display(silver_df)\n"
   ]
  }
 ],
 "metadata": {
  "application/vnd.databricks.v1+notebook": {
   "computePreferences": null,
   "dashboards": [],
   "environmentMetadata": {
    "base_environment": "",
    "environment_version": "2"
   },
   "inputWidgetPreferences": null,
   "language": "python",
   "notebookMetadata": {
    "mostRecentlyExecutedCommandWithImplicitDF": {
     "commandId": 8540647088013639,
     "dataframes": [
      "_sqldf"
     ]
    },
    "pythonIndentUnit": 4
   },
   "notebookName": "dim_visits",
   "widgets": {}
  },
  "language_info": {
   "name": "python"
  }
 },
 "nbformat": 4,
 "nbformat_minor": 0
}

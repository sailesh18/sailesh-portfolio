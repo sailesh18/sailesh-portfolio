{
 "cells": [
  {
   "cell_type": "code",
   "execution_count": 0,
   "metadata": {
    "application/vnd.databricks.v1+cell": {
     "cellMetadata": {
      "byteLimit": 2048000,
      "rowLimit": 10000
     },
     "inputWidgets": {},
     "nuid": "ee2e8c60-1d2d-4e3a-bbb5-00db0e4d3168",
     "showTitle": false,
     "tableResultSettingsMap": {},
     "title": ""
    }
   },
   "outputs": [],
   "source": [
    "from pyspark.sql.types import (\n",
    "    StructType,\n",
    "    StructField,\n",
    "    IntegerType,\n",
    "    DateType,\n",
    "    StringType,\n",
    "    DecimalType\n",
    ")\n",
    "\n",
    "orders_schema = StructType([\n",
    "    StructField(\"order_id\", IntegerType(), True),\n",
    "    StructField(\"user_id\", IntegerType(), True),\n",
    "    StructField(\"product_id\", IntegerType(), True),\n",
    "    StructField(\"order_date\", DateType(), True),\n",
    "    StructField(\"status\", StringType(), True)\n",
    "])\n",
    "\n",
    "products_schema = StructType([\n",
    "    StructField(\"product_id\", IntegerType(), True),\n",
    "    StructField(\"name\", StringType(), True),\n",
    "    StructField(\"category\", StringType(), True),\n",
    "    StructField(\"price\", DecimalType(), True)\n",
    "])\n",
    "\n",
    "users_schema = StructType([\n",
    "    StructField(\"user_id\", IntegerType(), True),\n",
    "    StructField(\"name\", StringType(), True),\n",
    "    StructField(\"age\", IntegerType(), True),\n",
    "    StructField(\"country\", StringType(), True),\n",
    "    StructField(\"email\", StringType(), True)\n",
    "])"
   ]
  },
  {
   "cell_type": "code",
   "execution_count": 0,
   "metadata": {
    "application/vnd.databricks.v1+cell": {
     "cellMetadata": {
      "byteLimit": 2048000,
      "rowLimit": 10000
     },
     "inputWidgets": {},
     "nuid": "313a44e2-0b06-48b7-aee7-5e889d6a176d",
     "showTitle": false,
     "tableResultSettingsMap": {},
     "title": ""
    }
   },
   "outputs": [],
   "source": [
    "orders = spark.read.format(\"csv\").option(\"header\", \"true\").schema(orders_schema).load(\"/Volumes/workspace/test/vol/orders.csv\")\n",
    "products = spark.read.format(\"csv\").option(\"header\", \"true\").schema(products_schema).load(\"/Volumes/workspace/test/vol/products.csv\")\n",
    "users = spark.read.format(\"csv\").option(\"header\", \"true\").schema(users_schema).load(\"/Volumes/workspace/test/vol/users.csv\")\n",
    "\n"
   ]
  },
  {
   "cell_type": "code",
   "execution_count": 0,
   "metadata": {
    "application/vnd.databricks.v1+cell": {
     "cellMetadata": {
      "byteLimit": 2048000,
      "rowLimit": 10000
     },
     "collapsed": true,
     "inputWidgets": {},
     "nuid": "7644349d-1bea-4425-bd16-c211d9d5f8cf",
     "showTitle": true,
     "tableResultSettingsMap": {},
     "title": "general"
    }
   },
   "outputs": [],
   "source": [
    "users.show(5)\n",
    "users.printSchema()\n",
    "users.columns\n",
    "users.describe().show()"
   ]
  },
  {
   "cell_type": "code",
   "execution_count": 0,
   "metadata": {
    "application/vnd.databricks.v1+cell": {
     "cellMetadata": {
      "byteLimit": 2048000,
      "rowLimit": 10000
     },
     "collapsed": true,
     "inputWidgets": {},
     "nuid": "5c12a1d6-644b-440b-90bd-9518c9b51731",
     "showTitle": true,
     "tableResultSettingsMap": {},
     "title": "select"
    }
   },
   "outputs": [],
   "source": [
    "products.select(\"name\",\"price\").show(10)"
   ]
  },
  {
   "cell_type": "code",
   "execution_count": 0,
   "metadata": {
    "application/vnd.databricks.v1+cell": {
     "cellMetadata": {
      "byteLimit": 2048000,
      "rowLimit": 10000
     },
     "inputWidgets": {},
     "nuid": "11f5c28e-327c-492f-8905-03f63a4d8149",
     "showTitle": false,
     "tableResultSettingsMap": {},
     "title": ""
    }
   },
   "outputs": [],
   "source": [
    "users.select(col(\"name\").alias(\"User Name\")).show()"
   ]
  },
  {
   "cell_type": "code",
   "execution_count": 0,
   "metadata": {
    "application/vnd.databricks.v1+cell": {
     "cellMetadata": {
      "byteLimit": 2048000,
      "rowLimit": 10000
     },
     "inputWidgets": {},
     "nuid": "38bc23f1-6bda-4dae-8ad0-98d78e853970",
     "showTitle": true,
     "tableResultSettingsMap": {},
     "title": "filter"
    }
   },
   "outputs": [],
   "source": [
    "from pyspark.sql.functions import col\n",
    "orders.filter((col(\"status\") == \"Completed\") & (col(\"product_id\") == \"114\")).show()"
   ]
  },
  {
   "cell_type": "code",
   "execution_count": 0,
   "metadata": {
    "application/vnd.databricks.v1+cell": {
     "cellMetadata": {
      "byteLimit": 2048000,
      "rowLimit": 10000
     },
     "inputWidgets": {},
     "nuid": "3dc5fb94-b796-4336-90c0-b08f6415c879",
     "showTitle": true,
     "tableResultSettingsMap": {},
     "title": "new column"
    }
   },
   "outputs": [],
   "source": [
    "orders.withColumn(\"new_status\", col(\"status\")).show(5)\n",
    "users.withColumnRenamed(\"name\", \"full_name\").show(5)"
   ]
  },
  {
   "cell_type": "code",
   "execution_count": 0,
   "metadata": {
    "application/vnd.databricks.v1+cell": {
     "cellMetadata": {
      "byteLimit": 2048000,
      "rowLimit": 10000
     },
     "inputWidgets": {},
     "nuid": "a74c5c3f-a20b-452a-8b33-01f72aec4885",
     "showTitle": false,
     "tableResultSettingsMap": {},
     "title": ""
    }
   },
   "outputs": [],
   "source": [
    "from pyspark.sql.functions import lit\n",
    "products.withColumn(\"net_price\",col(\"price\")).show(5)"
   ]
  },
  {
   "cell_type": "code",
   "execution_count": 0,
   "metadata": {
    "application/vnd.databricks.v1+cell": {
     "cellMetadata": {
      "byteLimit": 2048000,
      "rowLimit": 10000
     },
     "inputWidgets": {},
     "nuid": "7cb55d1f-8f87-4ef6-b4f5-8ae62e47096f",
     "showTitle": true,
     "tableResultSettingsMap": {},
     "title": "order by"
    }
   },
   "outputs": [],
   "source": [
    "users.orderBy(\"age\").show(5)\n",
    "users.orderBy(col(\"age\").desc()).show(5)"
   ]
  },
  {
   "cell_type": "code",
   "execution_count": 0,
   "metadata": {
    "application/vnd.databricks.v1+cell": {
     "cellMetadata": {
      "byteLimit": 2048000,
      "rowLimit": 10000
     },
     "inputWidgets": {},
     "nuid": "d3543b65-5b99-4ab6-99ce-be21e5f9a20d",
     "showTitle": false,
     "tableResultSettingsMap": {},
     "title": ""
    }
   },
   "outputs": [],
   "source": [
    "orders.select(\"status\").groupBy(\"status\").count().show()"
   ]
  },
  {
   "cell_type": "code",
   "execution_count": 0,
   "metadata": {
    "application/vnd.databricks.v1+cell": {
     "cellMetadata": {},
     "inputWidgets": {},
     "nuid": "3b3b6838-d3f4-47a7-a160-1726e25152cf",
     "showTitle": true,
     "tableResultSettingsMap": {},
     "title": "drop column"
    }
   },
   "outputs": [],
   "source": [
    "users = users.drop(\"email\")"
   ]
  }
 ],
 "metadata": {
  "application/vnd.databricks.v1+notebook": {
   "computePreferences": null,
   "dashboards": [],
   "environmentMetadata": {
    "base_environment": "",
    "environment_version": "2"
   },
   "inputWidgetPreferences": null,
   "language": "python",
   "notebookMetadata": {
    "pythonIndentUnit": 4
   },
   "notebookName": "14-07-2025",
   "widgets": {}
  },
  "language_info": {
   "name": "python"
  }
 },
 "nbformat": 4,
 "nbformat_minor": 0
}
